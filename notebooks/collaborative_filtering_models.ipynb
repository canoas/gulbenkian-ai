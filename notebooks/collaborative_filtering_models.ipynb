{
 "metadata": {
  "language_info": {
   "codemirror_mode": {
    "name": "ipython",
    "version": 3
   },
   "file_extension": ".py",
   "mimetype": "text/x-python",
   "name": "python",
   "nbconvert_exporter": "python",
   "pygments_lexer": "ipython3",
   "version": "3.6.10-final"
  },
  "orig_nbformat": 2,
  "kernelspec": {
   "name": "python3",
   "display_name": "Python 3.6.10 64-bit ('py36': conda)",
   "metadata": {
    "interpreter": {
     "hash": "735faef179f5cb085525f3faaa83caf951f2a05dfe70ead795f24f805eb4c248"
    }
   }
  }
 },
 "nbformat": 4,
 "nbformat_minor": 2,
 "cells": [
  {
   "source": [
    "# Collaborative Filtering Methods"
   ],
   "cell_type": "markdown",
   "metadata": {}
  },
  {
   "cell_type": "code",
   "execution_count": 5,
   "metadata": {},
   "outputs": [],
   "source": [
    "import pandas as pd\n",
    "from surprise import SVD, KNNWithZScore, NormalPredictor, BaselineOnly, CoClustering\n",
    "from surprise import Dataset\n",
    "from surprise import Reader\n",
    "from surprise.model_selection import cross_validate, train_test_split\n",
    "from surprise import accuracy"
   ]
  },
  {
   "source": [
    "### Using User-Restaurant-Rating dataframe"
   ],
   "cell_type": "markdown",
   "metadata": {}
  },
  {
   "cell_type": "code",
   "execution_count": 2,
   "metadata": {},
   "outputs": [],
   "source": [
    "df = pd.read_pickle('C:\\\\Users\\\\ineso\\\\FEUP-3ano\\\\gulbenkian-ai\\\\data\\\\vegas-restaurants\\\\vegas_review_reduced.pickle')\n",
    "reader = Reader(rating_scale=(1, 5))\n",
    "data = Dataset.load_from_df(df[['user_id', 'business_id', 'stars']], reader)"
   ]
  },
  {
   "cell_type": "code",
   "execution_count": 3,
   "metadata": {},
   "outputs": [
    {
     "output_type": "execute_result",
     "data": {
      "text/plain": [
       "                   user_id             business_id  stars\n",
       "3   ofKDkJKXSKZXu5xJNGiiBQ  5JxlZaqCnk1MnbgRirs40Q      1\n",
       "16  2hRe26HSCAWbFRn5WChK-Q  d4qwVw4PcN-_2mK2o1Ro1g      1\n",
       "21  RR-2nouBn408e3djxC470g  d4qwVw4PcN-_2mK2o1Ro1g      5\n",
       "24  -Co-ReNx_lXT1xL_Rr0B2g  XZbuPXdyA0ZtTu3AzqtQhg      4\n",
       "30  K5MSNpwRf0xKQSaC6gK9Cw  PL3cimEUfNHlenOGSOAdJg      4"
      ],
      "text/html": "<div>\n<style scoped>\n    .dataframe tbody tr th:only-of-type {\n        vertical-align: middle;\n    }\n\n    .dataframe tbody tr th {\n        vertical-align: top;\n    }\n\n    .dataframe thead th {\n        text-align: right;\n    }\n</style>\n<table border=\"1\" class=\"dataframe\">\n  <thead>\n    <tr style=\"text-align: right;\">\n      <th></th>\n      <th>user_id</th>\n      <th>business_id</th>\n      <th>stars</th>\n    </tr>\n  </thead>\n  <tbody>\n    <tr>\n      <th>3</th>\n      <td>ofKDkJKXSKZXu5xJNGiiBQ</td>\n      <td>5JxlZaqCnk1MnbgRirs40Q</td>\n      <td>1</td>\n    </tr>\n    <tr>\n      <th>16</th>\n      <td>2hRe26HSCAWbFRn5WChK-Q</td>\n      <td>d4qwVw4PcN-_2mK2o1Ro1g</td>\n      <td>1</td>\n    </tr>\n    <tr>\n      <th>21</th>\n      <td>RR-2nouBn408e3djxC470g</td>\n      <td>d4qwVw4PcN-_2mK2o1Ro1g</td>\n      <td>5</td>\n    </tr>\n    <tr>\n      <th>24</th>\n      <td>-Co-ReNx_lXT1xL_Rr0B2g</td>\n      <td>XZbuPXdyA0ZtTu3AzqtQhg</td>\n      <td>4</td>\n    </tr>\n    <tr>\n      <th>30</th>\n      <td>K5MSNpwRf0xKQSaC6gK9Cw</td>\n      <td>PL3cimEUfNHlenOGSOAdJg</td>\n      <td>4</td>\n    </tr>\n  </tbody>\n</table>\n</div>"
     },
     "metadata": {},
     "execution_count": 3
    }
   ],
   "source": [
    "df.head()"
   ]
  },
  {
   "source": [
    "#### SVD"
   ],
   "cell_type": "markdown",
   "metadata": {}
  },
  {
   "cell_type": "code",
   "execution_count": 32,
   "metadata": {},
   "outputs": [
    {
     "output_type": "stream",
     "name": "stdout",
     "text": [
      "Evaluating RMSE, MAE of algorithm SVD on 5 split(s).\n\n                  Fold 1  Fold 2  Fold 3  Fold 4  Fold 5  Mean    Std     \nRMSE (testset)    1.2717  1.2695  1.2714  1.2700  1.2723  1.2710  0.0010  \nMAE (testset)     1.0133  1.0131  1.0144  1.0137  1.0147  1.0139  0.0006  \nFit time          83.10   92.00   102.96  92.55   90.97   92.31   6.33    \nTest time         3.66    4.60    3.77    4.32    4.18    4.11    0.35    \n"
     ]
    },
    {
     "output_type": "execute_result",
     "data": {
      "text/plain": [
       "{'test_rmse': array([1.27166144, 1.26949466, 1.27136272, 1.27004675, 1.27232614]),\n",
       " 'test_mae': array([1.01327735, 1.01313134, 1.01440172, 1.01371879, 1.01473925]),\n",
       " 'fit_time': (83.09863138198853,\n",
       "  91.99651432037354,\n",
       "  102.95522284507751,\n",
       "  92.55313611030579,\n",
       "  90.97034454345703),\n",
       " 'test_time': (3.6630194187164307,\n",
       "  4.602813243865967,\n",
       "  3.765085220336914,\n",
       "  4.3225624561309814,\n",
       "  4.180122137069702)}"
      ]
     },
     "metadata": {},
     "execution_count": 32
    }
   ],
   "source": [
    "algo = SVD()\n",
    "cross_validate(algo, data, measures=['RMSE', 'MAE'], cv=5, verbose=True)"
   ]
  },
  {
   "source": [
    "#### KNN"
   ],
   "cell_type": "markdown",
   "metadata": {}
  },
  {
   "cell_type": "code",
   "execution_count": 48,
   "metadata": {},
   "outputs": [],
   "source": [
    "small_df = df.sample(n=10000, random_state=1)\n",
    "small_data = Dataset.load_from_df(small_df[['user_id', 'business_id', 'stars']], reader)"
   ]
  },
  {
   "cell_type": "code",
   "execution_count": 49,
   "metadata": {},
   "outputs": [
    {
     "output_type": "stream",
     "name": "stdout",
     "text": [
      "Computing the msd similarity matrix...\n",
      "Done computing similarity matrix.\n",
      "Computing the msd similarity matrix...\n",
      "Done computing similarity matrix.\n",
      "Computing the msd similarity matrix...\n",
      "Done computing similarity matrix.\n",
      "Computing the msd similarity matrix...\n",
      "Done computing similarity matrix.\n",
      "Computing the msd similarity matrix...\n",
      "Done computing similarity matrix.\n",
      "Evaluating RMSE, MAE of algorithm KNNWithZScore on 5 split(s).\n",
      "\n",
      "                  Fold 1  Fold 2  Fold 3  Fold 4  Fold 5  Mean    Std     \n",
      "RMSE (testset)    1.4422  1.4454  1.4194  1.4262  1.4322  1.4331  0.0097  \n",
      "MAE (testset)     1.2080  1.2162  1.1802  1.1850  1.1937  1.1966  0.0136  \n",
      "Fit time          1.63    1.67    1.76    2.00    1.84    1.78    0.13    \n",
      "Test time         0.03    0.02    0.02    0.02    0.03    0.03    0.00    \n"
     ]
    },
    {
     "output_type": "execute_result",
     "data": {
      "text/plain": [
       "{'test_rmse': array([1.44224555, 1.44536477, 1.41941864, 1.42616244, 1.43221419]),\n",
       " 'test_mae': array([1.20803149, 1.21621846, 1.18021512, 1.18496074, 1.19370262]),\n",
       " 'fit_time': (1.6308791637420654,\n",
       "  1.6726994514465332,\n",
       "  1.7642850875854492,\n",
       "  2.002148151397705,\n",
       "  1.8371763229370117),\n",
       " 'test_time': (0.028003931045532227,\n",
       "  0.0189974308013916,\n",
       "  0.02425551414489746,\n",
       "  0.02450728416442871,\n",
       "  0.029996156692504883)}"
      ]
     },
     "metadata": {},
     "execution_count": 49
    }
   ],
   "source": [
    "algo = KNNWithZScore()\n",
    "cross_validate(algo, small_data, measures=['RMSE', 'MAE'], cv=5, verbose=True)"
   ]
  },
  {
   "source": [
    "#### Normal Predictor"
   ],
   "cell_type": "markdown",
   "metadata": {}
  },
  {
   "cell_type": "code",
   "execution_count": 4,
   "metadata": {},
   "outputs": [
    {
     "output_type": "stream",
     "name": "stdout",
     "text": [
      "Evaluating RMSE, MAE of algorithm NormalPredictor on 5 split(s).\n\n                  Fold 1  Fold 2  Fold 3  Fold 4  Fold 5  Mean    Std     \nRMSE (testset)    1.8130  1.8104  1.8061  1.8023  1.8137  1.8091  0.0043  \nMAE (testset)     1.4305  1.4292  1.4249  1.4205  1.4302  1.4271  0.0039  \nFit time          3.84    5.54    5.14    4.77    5.05    4.87    0.57    \nTest time         5.58    5.64    4.37    5.39    4.93    5.18    0.48    \n"
     ]
    },
    {
     "output_type": "execute_result",
     "data": {
      "text/plain": [
       "{'test_rmse': array([1.8129916 , 1.8104468 , 1.8061148 , 1.80228167, 1.81365983]),\n",
       " 'test_mae': array([1.43046559, 1.42924764, 1.42492354, 1.42046196, 1.4302036 ]),\n",
       " 'fit_time': (3.838209629058838,\n",
       "  5.543445110321045,\n",
       "  5.140373468399048,\n",
       "  4.773275136947632,\n",
       "  5.050962448120117),\n",
       " 'test_time': (5.576751947402954,\n",
       "  5.64225435256958,\n",
       "  4.3715009689331055,\n",
       "  5.390634298324585,\n",
       "  4.930987119674683)}"
      ]
     },
     "metadata": {},
     "execution_count": 4
    }
   ],
   "source": [
    "algo = NormalPredictor()\n",
    "cross_validate(algo, data, measures=['RMSE', 'MAE'], cv=5, verbose=True)"
   ]
  },
  {
   "cell_type": "code",
   "execution_count": 5,
   "metadata": {},
   "outputs": [
    {
     "output_type": "stream",
     "name": "stdout",
     "text": [
      "Estimating biases using als...\n",
      "Estimating biases using als...\n",
      "Estimating biases using als...\n",
      "Estimating biases using als...\n",
      "Estimating biases using als...\n",
      "Evaluating RMSE, MAE of algorithm BaselineOnly on 5 split(s).\n",
      "\n",
      "                  Fold 1  Fold 2  Fold 3  Fold 4  Fold 5  Mean    Std     \n",
      "RMSE (testset)    1.2544  1.2507  1.2484  1.2481  1.2494  1.2502  0.0023  \n",
      "MAE (testset)     1.0114  1.0092  1.0068  1.0069  1.0083  1.0085  0.0017  \n",
      "Fit time          13.30   13.91   13.22   12.09   12.93   13.09   0.59    \n",
      "Test time         7.97    5.23    6.11    3.23    4.53    5.41    1.59    \n"
     ]
    },
    {
     "output_type": "execute_result",
     "data": {
      "text/plain": [
       "{'test_rmse': array([1.25441523, 1.25072836, 1.24835691, 1.24814139, 1.24944199]),\n",
       " 'test_mae': array([1.0114234 , 1.00917126, 1.00683778, 1.00689251, 1.00827499]),\n",
       " 'fit_time': (13.297805070877075,\n",
       "  13.91073226928711,\n",
       "  13.217430353164673,\n",
       "  12.087652921676636,\n",
       "  12.93212604522705),\n",
       " 'test_time': (7.972185850143433,\n",
       "  5.227759122848511,\n",
       "  6.10561728477478,\n",
       "  3.233851194381714,\n",
       "  4.5279905796051025)}"
      ]
     },
     "metadata": {},
     "execution_count": 5
    }
   ],
   "source": [
    "algo = BaselineOnly()\n",
    "cross_validate(algo, data, measures=['RMSE', 'MAE'], cv=5, verbose=True)"
   ]
  },
  {
   "cell_type": "code",
   "execution_count": 6,
   "metadata": {},
   "outputs": [
    {
     "output_type": "stream",
     "name": "stdout",
     "text": [
      "Evaluating RMSE, MAE of algorithm CoClustering on 5 split(s).\n\n                  Fold 1  Fold 2  Fold 3  Fold 4  Fold 5  Mean    Std     \nRMSE (testset)    1.3999  1.3958  1.3946  1.3990  1.3975  1.3974  0.0020  \nMAE (testset)     1.0641  1.0631  1.0630  1.0641  1.0678  1.0644  0.0018  \nFit time          160.78  123.57  114.30  115.70  118.51  126.57  17.40   \nTest time         3.25    2.70    2.73    3.19    3.36    3.05    0.27    \n"
     ]
    },
    {
     "output_type": "execute_result",
     "data": {
      "text/plain": [
       "{'test_rmse': array([1.39989932, 1.39576749, 1.39463115, 1.39902667, 1.39752897]),\n",
       " 'test_mae': array([1.06408132, 1.06308142, 1.06299298, 1.06406754, 1.06782673]),\n",
       " 'fit_time': (160.78143739700317,\n",
       "  123.56881475448608,\n",
       "  114.29606199264526,\n",
       "  115.69868016242981,\n",
       "  118.50581479072571),\n",
       " 'test_time': (3.24951171875,\n",
       "  2.7047390937805176,\n",
       "  2.7345917224884033,\n",
       "  3.186108350753784,\n",
       "  3.362250328063965)}"
      ]
     },
     "metadata": {},
     "execution_count": 6
    }
   ],
   "source": [
    "algo = CoClustering()\n",
    "cross_validate(algo, data, measures=['RMSE', 'MAE'], cv=5, verbose=True)"
   ]
  },
  {
   "source": [
    "### Using Category Ratings"
   ],
   "cell_type": "markdown",
   "metadata": {}
  },
  {
   "cell_type": "code",
   "execution_count": 4,
   "metadata": {},
   "outputs": [],
   "source": [
    "categories_df = pd.read_pickle('C:\\\\Users\\\\ineso\\\\FEUP-3ano\\\\gulbenkian-ai\\\\data\\\\vegas-restaurants\\\\vegas_category_review.pickle')\n",
    "reader = Reader(rating_scale=(1, 5))\n",
    "c_data = Dataset.load_from_df(categories_df[['user_id', 'category', 'stars']], reader)"
   ]
  },
  {
   "cell_type": "code",
   "execution_count": 5,
   "metadata": {},
   "outputs": [
    {
     "output_type": "execute_result",
     "data": {
      "text/plain": [
       "                  user_id  stars     category\n",
       "0  ofKDkJKXSKZXu5xJNGiiBQ      1  Restaurants\n",
       "1  ofKDkJKXSKZXu5xJNGiiBQ      1      Mexican\n",
       "2  m-BZLIIh5PCAKnzH0qj_0Q      3  Restaurants\n",
       "3  m-BZLIIh5PCAKnzH0qj_0Q      3      Mexican\n",
       "4  PKEzKWv_FktMm2mGPjwd0Q      4  Restaurants"
      ],
      "text/html": "<div>\n<style scoped>\n    .dataframe tbody tr th:only-of-type {\n        vertical-align: middle;\n    }\n\n    .dataframe tbody tr th {\n        vertical-align: top;\n    }\n\n    .dataframe thead th {\n        text-align: right;\n    }\n</style>\n<table border=\"1\" class=\"dataframe\">\n  <thead>\n    <tr style=\"text-align: right;\">\n      <th></th>\n      <th>user_id</th>\n      <th>stars</th>\n      <th>category</th>\n    </tr>\n  </thead>\n  <tbody>\n    <tr>\n      <th>0</th>\n      <td>ofKDkJKXSKZXu5xJNGiiBQ</td>\n      <td>1</td>\n      <td>Restaurants</td>\n    </tr>\n    <tr>\n      <th>1</th>\n      <td>ofKDkJKXSKZXu5xJNGiiBQ</td>\n      <td>1</td>\n      <td>Mexican</td>\n    </tr>\n    <tr>\n      <th>2</th>\n      <td>m-BZLIIh5PCAKnzH0qj_0Q</td>\n      <td>3</td>\n      <td>Restaurants</td>\n    </tr>\n    <tr>\n      <th>3</th>\n      <td>m-BZLIIh5PCAKnzH0qj_0Q</td>\n      <td>3</td>\n      <td>Mexican</td>\n    </tr>\n    <tr>\n      <th>4</th>\n      <td>PKEzKWv_FktMm2mGPjwd0Q</td>\n      <td>4</td>\n      <td>Restaurants</td>\n    </tr>\n  </tbody>\n</table>\n</div>"
     },
     "metadata": {},
     "execution_count": 5
    }
   ],
   "source": [
    "categories_df.head()"
   ]
  },
  {
   "cell_type": "code",
   "execution_count": 10,
   "metadata": {},
   "outputs": [],
   "source": [
    "small_c_df = df.sample(n=1000000, random_state=1)\n",
    "small_c_data = Dataset.load_from_df(small_c_df[['user_id', 'category', 'stars']], reader)"
   ]
  },
  {
   "cell_type": "code",
   "execution_count": 9,
   "metadata": {},
   "outputs": [
    {
     "output_type": "stream",
     "name": "stdout",
     "text": [
      "Evaluating RMSE, MAE of algorithm SVD on 5 split(s).\n\n                  Fold 1  Fold 2  Fold 3  Fold 4  Fold 5  Mean    Std     \nRMSE (testset)    1.3966  1.3899  1.3857  1.3847  1.3862  1.3886  0.0044  \nMAE (testset)     1.1547  1.1444  1.1431  1.1429  1.1515  1.1473  0.0048  \nFit time          54.96   46.94   46.08   45.57   58.52   50.41   5.31    \nTest time         2.26    1.40    1.73    1.90    2.35    1.93    0.35    \n"
     ]
    },
    {
     "output_type": "execute_result",
     "data": {
      "text/plain": [
       "{'test_rmse': array([1.39663219, 1.38993431, 1.38572685, 1.38471795, 1.38615792]),\n",
       " 'test_mae': array([1.15466075, 1.14435177, 1.14313368, 1.14291414, 1.15148105]),\n",
       " 'fit_time': (54.96292185783386,\n",
       "  46.942763566970825,\n",
       "  46.07562756538391,\n",
       "  45.566784620285034,\n",
       "  58.51905369758606),\n",
       " 'test_time': (2.2613441944122314,\n",
       "  1.4007010459899902,\n",
       "  1.7283918857574463,\n",
       "  1.8999834060668945,\n",
       "  2.3548383712768555)}"
      ]
     },
     "metadata": {},
     "execution_count": 9
    }
   ],
   "source": [
    "algo = SVD()\n",
    "cross_validate(algo, small_c_data, measures=['RMSE', 'MAE'], cv=5, verbose=True)"
   ]
  },
  {
   "cell_type": "code",
   "execution_count": 6,
   "metadata": {},
   "outputs": [
    {
     "output_type": "stream",
     "name": "stdout",
     "text": [
      "Computing the msd similarity matrix...\n",
      "Done computing similarity matrix.\n",
      "Computing the msd similarity matrix...\n",
      "Done computing similarity matrix.\n",
      "Computing the msd similarity matrix...\n",
      "Done computing similarity matrix.\n",
      "Computing the msd similarity matrix...\n",
      "Done computing similarity matrix.\n",
      "Computing the msd similarity matrix...\n",
      "Done computing similarity matrix.\n",
      "Evaluating RMSE, MAE of algorithm KNNWithZScore on 5 split(s).\n",
      "\n",
      "                  Fold 1  Fold 2  Fold 3  Fold 4  Fold 5  Mean    Std     \n",
      "RMSE (testset)    1.3886  1.4189  1.3798  1.3928  1.4130  1.3986  0.0149  \n",
      "MAE (testset)     1.1334  1.1736  1.1357  1.1476  1.1693  1.1519  0.0167  \n",
      "Fit time          9.70    21.96   18.99   19.69   14.56   16.98   4.36    \n",
      "Test time         0.47    0.68    0.60    0.43    0.48    0.53    0.09    \n"
     ]
    },
    {
     "output_type": "execute_result",
     "data": {
      "text/plain": [
       "{'test_rmse': array([1.38859161, 1.41891015, 1.37983716, 1.39275633, 1.41304067]),\n",
       " 'test_mae': array([1.13340233, 1.17359308, 1.13573035, 1.14757868, 1.16933245]),\n",
       " 'fit_time': (9.695146322250366,\n",
       "  21.962867498397827,\n",
       "  18.993683099746704,\n",
       "  19.688709497451782,\n",
       "  14.561994791030884),\n",
       " 'test_time': (0.4661130905151367,\n",
       "  0.6772603988647461,\n",
       "  0.6006078720092773,\n",
       "  0.42693328857421875,\n",
       "  0.4814774990081787)}"
      ]
     },
     "metadata": {},
     "execution_count": 6
    }
   ],
   "source": [
    "algo = KNNWithZScore()\n",
    "cross_validate(algo, small_c_data, measures=['RMSE', 'MAE'], cv=5, verbose=True)"
   ]
  },
  {
   "cell_type": "code",
   "execution_count": 9,
   "metadata": {},
   "outputs": [
    {
     "output_type": "stream",
     "name": "stdout",
     "text": [
      "Evaluating RMSE, MAE of algorithm NormalPredictor on 5 split(s).\n\n                  Fold 1  Fold 2  Fold 3  Fold 4  Fold 5  Mean    Std     \nRMSE (testset)    1.8016  1.8014  1.8030  1.8019  1.8031  1.8022  0.0007  \nMAE (testset)     1.4192  1.4194  1.4208  1.4195  1.4209  1.4200  0.0007  \nFit time          15.84   17.42   16.95   17.91   16.81   16.99   0.69    \nTest time         26.07   28.12   22.47   25.71   25.80   25.63   1.81    \n"
     ]
    },
    {
     "output_type": "execute_result",
     "data": {
      "text/plain": [
       "{'test_rmse': array([1.80156075, 1.80143873, 1.80296683, 1.80192088, 1.80305664]),\n",
       " 'test_mae': array([1.41923833, 1.41939777, 1.42079211, 1.41953588, 1.42086442]),\n",
       " 'fit_time': (15.841813564300537,\n",
       "  17.42082452774048,\n",
       "  16.953715562820435,\n",
       "  17.905550241470337,\n",
       "  16.80893325805664),\n",
       " 'test_time': (26.068778038024902,\n",
       "  28.115633010864258,\n",
       "  22.471868753433228,\n",
       "  25.71026635169983,\n",
       "  25.80151605606079)}"
      ]
     },
     "metadata": {},
     "execution_count": 9
    }
   ],
   "source": [
    "algo = NormalPredictor()\n",
    "cross_validate(algo, c_data, measures=['RMSE', 'MAE'], cv=5, verbose=True)"
   ]
  },
  {
   "cell_type": "code",
   "execution_count": 10,
   "metadata": {},
   "outputs": [
    {
     "output_type": "stream",
     "name": "stdout",
     "text": [
      "Estimating biases using als...\n",
      "Estimating biases using als...\n",
      "Estimating biases using als...\n",
      "Estimating biases using als...\n",
      "Estimating biases using als...\n",
      "Evaluating RMSE, MAE of algorithm BaselineOnly on 5 split(s).\n",
      "\n",
      "                  Fold 1  Fold 2  Fold 3  Fold 4  Fold 5  Mean    Std     \n",
      "RMSE (testset)    1.1653  1.1641  1.1652  1.1644  1.1651  1.1648  0.0005  \n",
      "MAE (testset)     0.9529  0.9524  0.9532  0.9525  0.9532  0.9529  0.0003  \n",
      "Fit time          44.91   48.66   51.31   48.29   49.70   48.57   2.11    \n",
      "Test time         22.22   23.55   24.34   21.54   21.67   22.66   1.10    \n"
     ]
    },
    {
     "output_type": "execute_result",
     "data": {
      "text/plain": [
       "{'test_rmse': array([1.16533905, 1.1640681 , 1.16515564, 1.16435088, 1.1650631 ]),\n",
       " 'test_mae': array([0.95286283, 0.95242327, 0.95324807, 0.9525471 , 0.95324157]),\n",
       " 'fit_time': (44.90551519393921,\n",
       "  48.655609130859375,\n",
       "  51.306873083114624,\n",
       "  48.28827357292175,\n",
       "  49.7005341053009),\n",
       " 'test_time': (22.215725660324097,\n",
       "  23.550837755203247,\n",
       "  24.339679718017578,\n",
       "  21.54015803337097,\n",
       "  21.672481775283813)}"
      ]
     },
     "metadata": {},
     "execution_count": 10
    }
   ],
   "source": [
    "algo = BaselineOnly()\n",
    "cross_validate(algo, c_data, measures=['RMSE', 'MAE'], cv=5, verbose=True)"
   ]
  },
  {
   "cell_type": "code",
   "execution_count": 11,
   "metadata": {},
   "outputs": [
    {
     "output_type": "stream",
     "name": "stdout",
     "text": [
      "Evaluating RMSE, MAE of algorithm CoClustering on 5 split(s).\n\n                  Fold 1  Fold 2  Fold 3  Fold 4  Fold 5  Mean    Std     \nRMSE (testset)    0.9805  0.9806  0.9782  0.9818  0.9832  0.9809  0.0016  \nMAE (testset)     0.6596  0.6611  0.6598  0.6593  0.6612  0.6602  0.0008  \nFit time          439.13  466.70  461.79  452.33  446.92  453.37  9.94    \nTest time         23.64   23.77   20.76   21.12   22.61   22.38   1.24    \n"
     ]
    },
    {
     "output_type": "execute_result",
     "data": {
      "text/plain": [
       "{'test_rmse': array([0.98054281, 0.98056658, 0.97823815, 0.98179145, 0.98315279]),\n",
       " 'test_mae': array([0.65958742, 0.66113369, 0.65983226, 0.65934298, 0.66123727]),\n",
       " 'fit_time': (439.12625193595886,\n",
       "  466.7014870643616,\n",
       "  461.79219245910645,\n",
       "  452.3313980102539,\n",
       "  446.9171643257141),\n",
       " 'test_time': (23.636879920959473,\n",
       "  23.766121864318848,\n",
       "  20.763012647628784,\n",
       "  21.12356686592102,\n",
       "  22.607990264892578)}"
      ]
     },
     "metadata": {},
     "execution_count": 11
    }
   ],
   "source": [
    "algo = CoClustering()\n",
    "cross_validate(algo, c_data, measures=['RMSE', 'MAE'], cv=5, verbose=True)"
   ]
  },
  {
   "cell_type": "code",
   "execution_count": 6,
   "metadata": {},
   "outputs": [
    {
     "output_type": "stream",
     "name": "stdout",
     "text": [
      "Computing the msd similarity matrix...\n"
     ]
    },
    {
     "output_type": "error",
     "ename": "MemoryError",
     "evalue": "Unable to allocate 1.47 TiB for an array with shape (449202, 449202) and data type float64",
     "traceback": [
      "\u001b[1;31m---------------------------------------------------------------------------\u001b[0m",
      "\u001b[1;31mMemoryError\u001b[0m                               Traceback (most recent call last)",
      "\u001b[1;32m<ipython-input-6-9505d16fb3f0>\u001b[0m in \u001b[0;36m<module>\u001b[1;34m\u001b[0m\n\u001b[0;32m      1\u001b[0m \u001b[0mtrainset\u001b[0m\u001b[1;33m,\u001b[0m \u001b[0mtestset\u001b[0m \u001b[1;33m=\u001b[0m \u001b[0mtrain_test_split\u001b[0m\u001b[1;33m(\u001b[0m\u001b[0mdata\u001b[0m\u001b[1;33m,\u001b[0m \u001b[0mtest_size\u001b[0m\u001b[1;33m=\u001b[0m\u001b[1;36m0.25\u001b[0m\u001b[1;33m)\u001b[0m\u001b[1;33m\u001b[0m\u001b[1;33m\u001b[0m\u001b[0m\n\u001b[0;32m      2\u001b[0m \u001b[0malgo\u001b[0m \u001b[1;33m=\u001b[0m  \u001b[0mKNNWithZScore\u001b[0m\u001b[1;33m(\u001b[0m\u001b[1;33m)\u001b[0m\u001b[1;33m\u001b[0m\u001b[1;33m\u001b[0m\u001b[0m\n\u001b[1;32m----> 3\u001b[1;33m \u001b[0mpredictions\u001b[0m \u001b[1;33m=\u001b[0m \u001b[0malgo\u001b[0m\u001b[1;33m.\u001b[0m\u001b[0mfit\u001b[0m\u001b[1;33m(\u001b[0m\u001b[0mtrainset\u001b[0m\u001b[1;33m)\u001b[0m\u001b[1;33m.\u001b[0m\u001b[0mtest\u001b[0m\u001b[1;33m(\u001b[0m\u001b[0mtestset\u001b[0m\u001b[1;33m)\u001b[0m\u001b[1;33m\u001b[0m\u001b[1;33m\u001b[0m\u001b[0m\n\u001b[0m\u001b[0;32m      4\u001b[0m \u001b[0maccuracy\u001b[0m\u001b[1;33m.\u001b[0m\u001b[0mrmse\u001b[0m\u001b[1;33m(\u001b[0m\u001b[0mpredictions\u001b[0m\u001b[1;33m)\u001b[0m\u001b[1;33m\u001b[0m\u001b[1;33m\u001b[0m\u001b[0m\n",
      "\u001b[1;32m~\\Anaconda2\\envs\\py36\\lib\\site-packages\\surprise\\prediction_algorithms\\knns.py\u001b[0m in \u001b[0;36mfit\u001b[1;34m(self, trainset)\u001b[0m\n\u001b[0;32m    381\u001b[0m             \u001b[0mself\u001b[0m\u001b[1;33m.\u001b[0m\u001b[0msigmas\u001b[0m\u001b[1;33m[\u001b[0m\u001b[0mx\u001b[0m\u001b[1;33m]\u001b[0m \u001b[1;33m=\u001b[0m \u001b[0mself\u001b[0m\u001b[1;33m.\u001b[0m\u001b[0moverall_sigma\u001b[0m \u001b[1;32mif\u001b[0m \u001b[0msigma\u001b[0m \u001b[1;33m==\u001b[0m \u001b[1;36m0.0\u001b[0m \u001b[1;32melse\u001b[0m \u001b[0msigma\u001b[0m\u001b[1;33m\u001b[0m\u001b[1;33m\u001b[0m\u001b[0m\n\u001b[0;32m    382\u001b[0m \u001b[1;33m\u001b[0m\u001b[0m\n\u001b[1;32m--> 383\u001b[1;33m         \u001b[0mself\u001b[0m\u001b[1;33m.\u001b[0m\u001b[0msim\u001b[0m \u001b[1;33m=\u001b[0m \u001b[0mself\u001b[0m\u001b[1;33m.\u001b[0m\u001b[0mcompute_similarities\u001b[0m\u001b[1;33m(\u001b[0m\u001b[1;33m)\u001b[0m\u001b[1;33m\u001b[0m\u001b[1;33m\u001b[0m\u001b[0m\n\u001b[0m\u001b[0;32m    384\u001b[0m \u001b[1;33m\u001b[0m\u001b[0m\n\u001b[0;32m    385\u001b[0m         \u001b[1;32mreturn\u001b[0m \u001b[0mself\u001b[0m\u001b[1;33m\u001b[0m\u001b[1;33m\u001b[0m\u001b[0m\n",
      "\u001b[1;32m~\\Anaconda2\\envs\\py36\\lib\\site-packages\\surprise\\prediction_algorithms\\algo_base.py\u001b[0m in \u001b[0;36mcompute_similarities\u001b[1;34m(self)\u001b[0m\n\u001b[0;32m    247\u001b[0m             \u001b[1;32mif\u001b[0m \u001b[0mgetattr\u001b[0m\u001b[1;33m(\u001b[0m\u001b[0mself\u001b[0m\u001b[1;33m,\u001b[0m \u001b[1;34m'verbose'\u001b[0m\u001b[1;33m,\u001b[0m \u001b[1;32mFalse\u001b[0m\u001b[1;33m)\u001b[0m\u001b[1;33m:\u001b[0m\u001b[1;33m\u001b[0m\u001b[1;33m\u001b[0m\u001b[0m\n\u001b[0;32m    248\u001b[0m                 \u001b[0mprint\u001b[0m\u001b[1;33m(\u001b[0m\u001b[1;34m'Computing the {0} similarity matrix...'\u001b[0m\u001b[1;33m.\u001b[0m\u001b[0mformat\u001b[0m\u001b[1;33m(\u001b[0m\u001b[0mname\u001b[0m\u001b[1;33m)\u001b[0m\u001b[1;33m)\u001b[0m\u001b[1;33m\u001b[0m\u001b[1;33m\u001b[0m\u001b[0m\n\u001b[1;32m--> 249\u001b[1;33m             \u001b[0msim\u001b[0m \u001b[1;33m=\u001b[0m \u001b[0mconstruction_func\u001b[0m\u001b[1;33m[\u001b[0m\u001b[0mname\u001b[0m\u001b[1;33m]\u001b[0m\u001b[1;33m(\u001b[0m\u001b[1;33m*\u001b[0m\u001b[0margs\u001b[0m\u001b[1;33m)\u001b[0m\u001b[1;33m\u001b[0m\u001b[1;33m\u001b[0m\u001b[0m\n\u001b[0m\u001b[0;32m    250\u001b[0m             \u001b[1;32mif\u001b[0m \u001b[0mgetattr\u001b[0m\u001b[1;33m(\u001b[0m\u001b[0mself\u001b[0m\u001b[1;33m,\u001b[0m \u001b[1;34m'verbose'\u001b[0m\u001b[1;33m,\u001b[0m \u001b[1;32mFalse\u001b[0m\u001b[1;33m)\u001b[0m\u001b[1;33m:\u001b[0m\u001b[1;33m\u001b[0m\u001b[1;33m\u001b[0m\u001b[0m\n\u001b[0;32m    251\u001b[0m                 \u001b[0mprint\u001b[0m\u001b[1;33m(\u001b[0m\u001b[1;34m'Done computing similarity matrix.'\u001b[0m\u001b[1;33m)\u001b[0m\u001b[1;33m\u001b[0m\u001b[1;33m\u001b[0m\u001b[0m\n",
      "\u001b[1;32m~\\Anaconda2\\envs\\py36\\lib\\site-packages\\surprise\\similarities.pyx\u001b[0m in \u001b[0;36msurprise.similarities.msd\u001b[1;34m()\u001b[0m\n",
      "\u001b[1;31mMemoryError\u001b[0m: Unable to allocate 1.47 TiB for an array with shape (449202, 449202) and data type float64"
     ]
    }
   ],
   "source": [
    "trainset, testset = train_test_split(data, test_size=0.25)\n",
    "algo =  KNNWithZScore()\n",
    "predictions = algo.fit(trainset).test(testset)\n",
    "accuracy.rmse(predictions)"
   ]
  },
  {
   "cell_type": "code",
   "execution_count": 20,
   "metadata": {},
   "outputs": [
    {
     "output_type": "stream",
     "name": "stdout",
     "text": [
      "RMSE: 1.3951\n"
     ]
    },
    {
     "output_type": "execute_result",
     "data": {
      "text/plain": [
       "1.3951261044134244"
      ]
     },
     "metadata": {},
     "execution_count": 20
    }
   ],
   "source": [
    "trainset, testset = train_test_split(data, test_size=0.20)\n",
    "algo = CoClustering()\n",
    "predictions = algo.fit(trainset).test(testset)\n",
    "accuracy.rmse(predictions)"
   ]
  },
  {
   "source": [
    "#### Comparing restaurant vs category approaches"
   ],
   "cell_type": "markdown",
   "metadata": {}
  },
  {
   "cell_type": "code",
   "execution_count": 2,
   "metadata": {},
   "outputs": [],
   "source": [
    "rest_review_df = pd.read_pickle('C:\\\\Users\\\\ineso\\\\FEUP-3ano\\\\gulbenkian-ai\\\\data\\\\vegas-restaurants\\\\vegas_review_reduced.pickle')"
   ]
  },
  {
   "cell_type": "code",
   "execution_count": 12,
   "metadata": {},
   "outputs": [],
   "source": [
    "rest_df = pd.read_pickle('C:\\\\Users\\\\ineso\\\\FEUP-3ano\\\\gulbenkian-ai\\\\data\\\\vegas-restaurants\\\\restaurant_in_vegas.pickle')"
   ]
  },
  {
   "cell_type": "code",
   "execution_count": 13,
   "metadata": {},
   "outputs": [],
   "source": [
    "rest_df = rest_df[['business_id', 'categories']]"
   ]
  },
  {
   "cell_type": "code",
   "execution_count": 11,
   "metadata": {},
   "outputs": [],
   "source": [
    "from sklearn.model_selection import train_test_split\n",
    "rest_review_df = rest_review_df.sample(n=100000, random_state=1)\n",
    "trainset, testset = train_test_split(rest_review_df, test_size=0.25)"
   ]
  },
  {
   "cell_type": "code",
   "execution_count": 14,
   "metadata": {},
   "outputs": [],
   "source": [
    "cat_trainset = pd.DataFrame(columns=['user_id', 'category', 'stars'])\n",
    "temp = trainset.merge(rest_df, how='inner', on='business_id')"
   ]
  },
  {
   "cell_type": "code",
   "execution_count": 15,
   "metadata": {},
   "outputs": [],
   "source": [
    "i=0\n",
    "for index, row in temp.iterrows():\n",
    "    categories = row['categories'].split(\", \")\n",
    "    for c in categories:\n",
    "        cat_trainset.loc[i] = [row['user_id'], c, row['stars']]\n",
    "        i+=1"
   ]
  },
  {
   "cell_type": "code",
   "execution_count": 16,
   "metadata": {},
   "outputs": [
    {
     "output_type": "execute_result",
     "data": {
      "text/plain": [
       "                  user_id                category stars\n",
       "0  lJGYe2Jzxff5hxQAXFLohw                 Seafood     4\n",
       "1  lJGYe2Jzxff5hxQAXFLohw  American (Traditional)     4\n",
       "2  lJGYe2Jzxff5hxQAXFLohw                    Food     4\n",
       "3  lJGYe2Jzxff5hxQAXFLohw             Restaurants     4\n",
       "4  lJGYe2Jzxff5hxQAXFLohw           Chicken Wings     4"
      ],
      "text/html": "<div>\n<style scoped>\n    .dataframe tbody tr th:only-of-type {\n        vertical-align: middle;\n    }\n\n    .dataframe tbody tr th {\n        vertical-align: top;\n    }\n\n    .dataframe thead th {\n        text-align: right;\n    }\n</style>\n<table border=\"1\" class=\"dataframe\">\n  <thead>\n    <tr style=\"text-align: right;\">\n      <th></th>\n      <th>user_id</th>\n      <th>category</th>\n      <th>stars</th>\n    </tr>\n  </thead>\n  <tbody>\n    <tr>\n      <th>0</th>\n      <td>lJGYe2Jzxff5hxQAXFLohw</td>\n      <td>Seafood</td>\n      <td>4</td>\n    </tr>\n    <tr>\n      <th>1</th>\n      <td>lJGYe2Jzxff5hxQAXFLohw</td>\n      <td>American (Traditional)</td>\n      <td>4</td>\n    </tr>\n    <tr>\n      <th>2</th>\n      <td>lJGYe2Jzxff5hxQAXFLohw</td>\n      <td>Food</td>\n      <td>4</td>\n    </tr>\n    <tr>\n      <th>3</th>\n      <td>lJGYe2Jzxff5hxQAXFLohw</td>\n      <td>Restaurants</td>\n      <td>4</td>\n    </tr>\n    <tr>\n      <th>4</th>\n      <td>lJGYe2Jzxff5hxQAXFLohw</td>\n      <td>Chicken Wings</td>\n      <td>4</td>\n    </tr>\n  </tbody>\n</table>\n</div>"
     },
     "metadata": {},
     "execution_count": 16
    }
   ],
   "source": [
    "cat_trainset.head()"
   ]
  },
  {
   "cell_type": "code",
   "execution_count": 2,
   "metadata": {},
   "outputs": [],
   "source": [
    "trainset = pd.read_pickle('C:\\\\Users\\\\ineso\\\\FEUP-3ano\\\\gulbenkian-ai\\\\data\\\\cfsamples\\\\rest_trainset.pickle')\n",
    "testset = pd.read_pickle('C:\\\\Users\\\\ineso\\\\FEUP-3ano\\\\gulbenkian-ai\\\\data\\\\cfsamples\\\\rest_testset.pickle')\n",
    "cat_trainset = pd.read_pickle('C:\\\\Users\\\\ineso\\\\FEUP-3ano\\\\gulbenkian-ai\\\\data\\\\cfsamples\\\\cat_trainset.pickle')"
   ]
  },
  {
   "cell_type": "code",
   "execution_count": 6,
   "metadata": {},
   "outputs": [],
   "source": [
    "reader = Reader(rating_scale=(1, 5))\n",
    "train_data = Dataset.load_from_df(trainset[['user_id', 'business_id', 'stars']], reader)\n",
    "train_set = train_data.build_full_trainset()\n",
    "\n",
    "test_data = Dataset.load_from_df(testset[['user_id', 'business_id', 'stars']], reader)\n",
    "test_set = test_data.build_full_trainset()\n",
    "test_set = test_set.build_testset()"
   ]
  },
  {
   "cell_type": "code",
   "execution_count": 7,
   "metadata": {},
   "outputs": [
    {
     "output_type": "stream",
     "name": "stdout",
     "text": [
      "RMSE: 1.4665\n"
     ]
    },
    {
     "output_type": "execute_result",
     "data": {
      "text/plain": [
       "1.4665094888875774"
      ]
     },
     "metadata": {},
     "execution_count": 7
    }
   ],
   "source": [
    "algo = CoClustering()\n",
    "predictions = algo.fit(train_set).test(test_set)\n",
    "accuracy.rmse(predictions)"
   ]
  },
  {
   "cell_type": "code",
   "execution_count": 8,
   "metadata": {},
   "outputs": [],
   "source": [
    "cat_train_data = Dataset.load_from_df(cat_trainset[['user_id', 'category', 'stars']], reader)\n",
    "cat_train_set = cat_train_data.build_full_trainset()"
   ]
  },
  {
   "cell_type": "code",
   "execution_count": 9,
   "metadata": {},
   "outputs": [
    {
     "output_type": "execute_result",
     "data": {
      "text/plain": [
       "<surprise.prediction_algorithms.co_clustering.CoClustering at 0x17599e5b4a8>"
      ]
     },
     "metadata": {},
     "execution_count": 9
    }
   ],
   "source": [
    "cat_algo = CoClustering()\n",
    "cat_algo.fit(cat_train_set)"
   ]
  },
  {
   "cell_type": "code",
   "execution_count": 14,
   "metadata": {},
   "outputs": [],
   "source": [
    "cat_test_set = testset.merge(rest_df, how='inner', on='business_id')"
   ]
  },
  {
   "cell_type": "code",
   "execution_count": 15,
   "metadata": {},
   "outputs": [
    {
     "output_type": "execute_result",
     "data": {
      "text/plain": [
       "                  user_id             business_id  stars  \\\n",
       "0  n07_7NVp-V-cHBABNhOX5A  pHJu8tj3sI8eC5aIHLFEfQ      4   \n",
       "1  3CoNALzkmcfPKG0JO-lxlw  pHJu8tj3sI8eC5aIHLFEfQ      5   \n",
       "2  1DLvCQ0vQ87BPp3iqYgRZQ  pHJu8tj3sI8eC5aIHLFEfQ      4   \n",
       "3  wy5hMyNYXMPwiy_gPLbVcw  pHJu8tj3sI8eC5aIHLFEfQ      5   \n",
       "4  kbWxWF1a3jvjvfeUWqPJ8w  pHJu8tj3sI8eC5aIHLFEfQ      1   \n",
       "\n",
       "                                          categories  \n",
       "0  Bars, Wine Bars, Nightlife, Venues & Event Spa...  \n",
       "1  Bars, Wine Bars, Nightlife, Venues & Event Spa...  \n",
       "2  Bars, Wine Bars, Nightlife, Venues & Event Spa...  \n",
       "3  Bars, Wine Bars, Nightlife, Venues & Event Spa...  \n",
       "4  Bars, Wine Bars, Nightlife, Venues & Event Spa...  "
      ],
      "text/html": "<div>\n<style scoped>\n    .dataframe tbody tr th:only-of-type {\n        vertical-align: middle;\n    }\n\n    .dataframe tbody tr th {\n        vertical-align: top;\n    }\n\n    .dataframe thead th {\n        text-align: right;\n    }\n</style>\n<table border=\"1\" class=\"dataframe\">\n  <thead>\n    <tr style=\"text-align: right;\">\n      <th></th>\n      <th>user_id</th>\n      <th>business_id</th>\n      <th>stars</th>\n      <th>categories</th>\n    </tr>\n  </thead>\n  <tbody>\n    <tr>\n      <th>0</th>\n      <td>n07_7NVp-V-cHBABNhOX5A</td>\n      <td>pHJu8tj3sI8eC5aIHLFEfQ</td>\n      <td>4</td>\n      <td>Bars, Wine Bars, Nightlife, Venues &amp; Event Spa...</td>\n    </tr>\n    <tr>\n      <th>1</th>\n      <td>3CoNALzkmcfPKG0JO-lxlw</td>\n      <td>pHJu8tj3sI8eC5aIHLFEfQ</td>\n      <td>5</td>\n      <td>Bars, Wine Bars, Nightlife, Venues &amp; Event Spa...</td>\n    </tr>\n    <tr>\n      <th>2</th>\n      <td>1DLvCQ0vQ87BPp3iqYgRZQ</td>\n      <td>pHJu8tj3sI8eC5aIHLFEfQ</td>\n      <td>4</td>\n      <td>Bars, Wine Bars, Nightlife, Venues &amp; Event Spa...</td>\n    </tr>\n    <tr>\n      <th>3</th>\n      <td>wy5hMyNYXMPwiy_gPLbVcw</td>\n      <td>pHJu8tj3sI8eC5aIHLFEfQ</td>\n      <td>5</td>\n      <td>Bars, Wine Bars, Nightlife, Venues &amp; Event Spa...</td>\n    </tr>\n    <tr>\n      <th>4</th>\n      <td>kbWxWF1a3jvjvfeUWqPJ8w</td>\n      <td>pHJu8tj3sI8eC5aIHLFEfQ</td>\n      <td>1</td>\n      <td>Bars, Wine Bars, Nightlife, Venues &amp; Event Spa...</td>\n    </tr>\n  </tbody>\n</table>\n</div>"
     },
     "metadata": {},
     "execution_count": 15
    }
   ],
   "source": [
    "cat_test_set.head()"
   ]
  },
  {
   "cell_type": "code",
   "execution_count": 18,
   "metadata": {},
   "outputs": [
    {
     "output_type": "stream",
     "name": "stdout",
     "text": [
      "RMSE:  1.3992205169703416\n"
     ]
    }
   ],
   "source": [
    "import math\n",
    "sqr_errors = []\n",
    "for index, row in cat_test_set.iterrows():\n",
    "    categories = row['categories'].split(\", \")\n",
    "    predictions = []\n",
    "    for c in categories:\n",
    "        predictions.append(algo.predict(row['user_id'], c, r_ui=row['stars']).est)\n",
    "    predicted_rating = sum(predictions)/len(predictions)\n",
    "    sqr_errors.append((row['stars'] - predicted_rating)**2)\n",
    "\n",
    "rmse = math.sqrt(sum(sqr_errors)/len(sqr_errors))\n",
    "print(\"RMSE: \", rmse)"
   ]
  },
  {
   "cell_type": "code",
   "execution_count": null,
   "metadata": {},
   "outputs": [],
   "source": []
  }
 ]
}