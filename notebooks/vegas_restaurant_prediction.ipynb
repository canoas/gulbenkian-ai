{
 "metadata": {
  "language_info": {
   "codemirror_mode": {
    "name": "ipython",
    "version": 3
   },
   "file_extension": ".py",
   "mimetype": "text/x-python",
   "name": "python",
   "nbconvert_exporter": "python",
   "pygments_lexer": "ipython3",
   "version": "3.6.10-final"
  },
  "orig_nbformat": 2,
  "kernelspec": {
   "name": "python3",
   "display_name": "Python 3",
   "language": "python"
  }
 },
 "nbformat": 4,
 "nbformat_minor": 2,
 "cells": [
  {
   "cell_type": "code",
   "execution_count": 1,
   "metadata": {},
   "outputs": [],
   "source": [
    "import json  \n",
    "import pandas as pd \n",
    "from pandas import json_normalize \n",
    "import networkx as nx\n",
    "import matplotlib.pyplot as plt\n",
    "import numpy as np\n",
    "import random"
   ]
  },
  {
   "cell_type": "code",
   "execution_count": 3,
   "metadata": {},
   "outputs": [],
   "source": [
    "# get restaurant, user and review data \n",
    "rest_df = pd.read_pickle('C:\\\\Users\\\\ineso\\\\FEUP-3ano\\\\gulbenkian-ai\\\\data\\\\vegas-restaurants\\\\restaurant_in_vegas.pickle')\n",
    "user_df = pd.read_pickle('C:\\\\Users\\\\ineso\\\\FEUP-3ano\\\\gulbenkian-ai\\\\data\\\\vegas-restaurants\\\\vegas_users.pickle')\n",
    "review_df = pd.read_pickle('C:\\\\Users\\\\ineso\\\\FEUP-3ano\\\\gulbenkian-ai\\\\data\\\\vegas-restaurants\\\\vegas_review.pickle')"
   ]
  },
  {
   "cell_type": "code",
   "execution_count": 4,
   "metadata": {},
   "outputs": [],
   "source": [
    "review_df = review_df.sample(10000)"
   ]
  },
  {
   "cell_type": "code",
   "execution_count": 5,
   "metadata": {},
   "outputs": [],
   "source": [
    "# fill category column cells without values\n",
    "rest_df['categories'] = rest_df['categories'].fillna(\"\")"
   ]
  },
  {
   "cell_type": "code",
   "execution_count": 6,
   "metadata": {},
   "outputs": [],
   "source": [
    "# initialize graph\n",
    "G = nx.Graph()\n",
    "\n",
    "categories = []\n",
    "restaurants = []\n",
    "rest_category = []\n",
    "users = []\n",
    "friends = []\n",
    "reviews = []"
   ]
  },
  {
   "cell_type": "code",
   "execution_count": 7,
   "metadata": {},
   "outputs": [],
   "source": [
    "# add edges between users and the restaurants they reviewed\n",
    "for index, row in review_df.iterrows():\n",
    "    if row['user_id'] not in users:\n",
    "        G.add_node(row['user_id'], type=\"user\")\n",
    "        users.append(row['user_id'])\n",
    "    if row['business_id'] not in restaurants:\n",
    "        G.add_node(row['business_id'], type=\"restaurant\")\n",
    "        restaurants.append(row['business_id'])\n",
    "    G.add_edge(row['user_id'], row['business_id'], rating=row['stars'])\n",
    "    reviews.append((row['user_id'], row['business_id']))"
   ]
  },
  {
   "cell_type": "code",
   "execution_count": 29,
   "metadata": {},
   "outputs": [],
   "source": [
    "# add restaurant names\n",
    "for index, row in rest_df.iterrows():\n",
    "    if row['business_id'] in restaurants:\n",
    "        G.nodes[row['business_id']]['name'] = row['name']\n",
    "    \n",
    "    # add category nodes and edges between those and restaurants\n",
    "    cat = row['categories'].split(\", \")\n",
    "    for c in cat:\n",
    "        if c not in categories:\n",
    "            G.add_node(c, type=\"category\")\n",
    "            categories.append(c)\n",
    "        G.add_edge(row['business_id'], c)\n",
    "        rest_category.append((row['business_id'], c))"
   ]
  },
  {
   "cell_type": "code",
   "execution_count": 30,
   "metadata": {},
   "outputs": [],
   "source": [
    "# add user nodes\n",
    "for index, row in user_df.iterrows():\n",
    "    if row['user_id'] in users:\n",
    "        G.nodes[row['user_id']]['name'] = row['name']"
   ]
  },
  {
   "cell_type": "code",
   "execution_count": 36,
   "metadata": {},
   "outputs": [],
   "source": [
    "def shared_neighbors(G, user1, user2):\n",
    "    nbrs1 = G.neighbors(user1)\n",
    "    nbrs2 = G.neighbors(user2)\n",
    "\n",
    "    overlap = set(nbrs1).intersection(nbrs2)\n",
    "    return overlap"
   ]
  },
  {
   "cell_type": "code",
   "execution_count": 173,
   "metadata": {},
   "outputs": [],
   "source": [
    "def user_similarity(G, user1, user2):\n",
    "    shared_nodes = shared_neighbors(G, user1, user2)\n",
    "\n",
    "    #nbrs1 = G.neighbors(user1)\n",
    "    #nbrs2 = G.neighbors(user2)\n",
    "    #total = set(nbrs1).union(set(nbrs2))\n",
    "    return len(shared_nodes) / len(restaurants)"
   ]
  },
  {
   "cell_type": "code",
   "execution_count": 171,
   "metadata": {},
   "outputs": [],
   "source": [
    "def restaurant_similarity(G, rest1, rest2):\n",
    "    shared_nodes = shared_neighbors(G, rest1, rest2)\n",
    "    shared_nodes = list(filter(lambda x: G.nodes[x]['type'] == 'category', shared_nodes))\n",
    "\n",
    "    nbrs1 = G.neighbors(rest1)\n",
    "    nbrs2 = G.neighbors(rest2)\n",
    "    total = set(nbrs1).union(set(nbrs2))\n",
    "    total = list(filter(lambda x: G.nodes[x]['type'] == 'category', total))\n",
    "    return len(shared_nodes) / len(total)"
   ]
  },
  {
   "cell_type": "code",
   "execution_count": 71,
   "metadata": {},
   "outputs": [],
   "source": [
    "from collections import defaultdict\n",
    "\n",
    "def most_similar_users(G, user):\n",
    "    nbrs = G.neighbors(user)\n",
    "\n",
    "    user_nodes = []\n",
    "    for r in nbrs:\n",
    "        user_nbrs = G.neighbors(r)\n",
    "        user_nbrs = list(filter(lambda x: G.nodes[x]['type'] == 'user', user_nbrs))\n",
    "        for u in user_nbrs:\n",
    "            if u not in user_nodes:\n",
    "                user_nodes.append(u)\n",
    "\n",
    "    similarities = defaultdict(list)\n",
    "    for n in user_nodes:\n",
    "        similarity = user_similarity(G, user, n)\n",
    "        similarities[similarity].append(n)\n",
    "\n",
    "    max_similarity = max(similarities.keys())\n",
    "    if(max_similarity == 0): return []\n",
    "\n",
    "    return similarities[max_similarity]"
   ]
  },
  {
   "cell_type": "code",
   "execution_count": 55,
   "metadata": {},
   "outputs": [],
   "source": [
    "def recommend_restaurants(G, from_user, to_user):\n",
    "    from_rests = set(G.neighbors(from_user))\n",
    "    to_rests = set(G.neighbors(to_user))\n",
    "\n",
    "    return from_rests.difference(to_rests)"
   ]
  },
  {
   "cell_type": "code",
   "execution_count": 178,
   "metadata": {},
   "outputs": [
    {
     "output_type": "stream",
     "name": "stdout",
     "text": [
      "jkBOSB5CBB_omGWIHKCIpg\n['4zicS2kEKUAYpRZDAAY36Q', 'o0JxB9pFY-683xN3qiHs7A', 'QMvKdCyjwCzqQey1Y32nKQ', 'jkBOSB5CBB_omGWIHKCIpg', 'cfmNF0zeQKz8NRJ-Uj_ofQ', 'eBCd6cQsEywwjai53WZrKQ', 'Hd6pD2G26ObK3gtvdhyHGg', 'VFmgdFI4iEwbxNSXu-3RZg', 'ljexhO2z36Mt3WXAjed-Kw']\n[('Cafe Americano', 'Spago by Wolfgang Puck', 0.2857142857142857), ('Cafe Americano', 'Beijing Noodle No. 9', 0.14285714285714285), ('Cafe Americano', 'Las Vegas National Golf Club', 0.1)]\n"
     ]
    }
   ],
   "source": [
    "test_user = 'jkBOSB5CBB_omGWIHKCIpg'\n",
    "#test_user = random.choice(users)\n",
    "print(test_user)\n",
    "similar_users = most_similar_users(G, test_user)\n",
    "print(similar_users)\n",
    "recommendations = set()\n",
    "for u in similar_users:\n",
    "    recommendations.update(recommend_restaurants(G, u, test_user))\n",
    "\n",
    "nbrs = G.neighbors(test_user)\n",
    "\n",
    "similarities = []\n",
    "for n in nbrs:\n",
    "    for r in recommendations:\n",
    "        similarities.append((rest_df.loc[rest_df['business_id'] == n,]['name'].item(),rest_df.loc[rest_df['business_id'] == r]['name'].item(), restaurant_similarity(G, n, r)))\n",
    "\n",
    "print(similarities)"
   ]
  },
  {
   "cell_type": "code",
   "execution_count": 179,
   "metadata": {},
   "outputs": [],
   "source": [
    "nx.write_gpickle(G, \"DatasetSamples/vegas_graph_small.gpickle\")"
   ]
  },
  {
   "cell_type": "code",
   "execution_count": null,
   "metadata": {},
   "outputs": [],
   "source": []
  }
 ]
}