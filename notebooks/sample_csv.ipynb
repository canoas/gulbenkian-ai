{
 "metadata": {
  "language_info": {
   "codemirror_mode": {
    "name": "ipython",
    "version": 3
   },
   "file_extension": ".py",
   "mimetype": "text/x-python",
   "name": "python",
   "nbconvert_exporter": "python",
   "pygments_lexer": "ipython3",
   "version": "3.6.10-final"
  },
  "orig_nbformat": 2,
  "kernelspec": {
   "name": "python3",
   "display_name": "Python 3",
   "language": "python"
  }
 },
 "nbformat": 4,
 "nbformat_minor": 2,
 "cells": [
  {
   "cell_type": "code",
   "execution_count": 2,
   "metadata": {},
   "outputs": [],
   "source": [
    "import pandas\n",
    "import random\n",
    "\n",
    "filename = 'C:\\\\Users\\\\ineso\\\\FEUP-3ano\\\\gulbenkian-ai\\\\YelpDatasetKaggle\\\\yelp_academic_dataset_review.csv'\n",
    "n = sum(1 for line in open(filename, encoding=\"utf-8\")) - 1 #number of records in file (excludes header)\n",
    "s = 10000 #desired sample size\n",
    "skip = sorted(random.sample(range(1,n+1),n-s)) #the 0-indexed header will not be included in the skip list\n",
    "df = pandas.read_csv(filename, skiprows=skip)"
   ]
  },
  {
   "cell_type": "code",
   "execution_count": 3,
   "metadata": {},
   "outputs": [],
   "source": [
    "df.to_csv(r'C:\\Users\\ineso\\FEUP-3ano\\gulbenkian-ai\\DatasetSamples\\review_sample.csv', index = False)"
   ]
  },
  {
   "cell_type": "code",
   "execution_count": 4,
   "metadata": {},
   "outputs": [],
   "source": [
    "users = []\n",
    "businesses = []\n",
    "for index, row in df.iterrows():\n",
    "    if row['user_id'] not in users:\n",
    "        users.append(row['user_id'])\n",
    "    if row['business_id'] not in businesses:\n",
    "        businesses.append(row['business_id'])\n",
    "        "
   ]
  },
  {
   "cell_type": "code",
   "execution_count": 8,
   "metadata": {},
   "outputs": [],
   "source": [
    "users_df = pandas.read_csv('C:\\\\Users\\\\ineso\\\\FEUP-3ano\\\\gulbenkian-ai\\\\YelpDatasetKaggle\\\\yelp_academic_dataset_user.csv')\n",
    "new_users_df = pandas.DataFrame()\n",
    "for index, row in users_df.iterrows():\n",
    "    if row['user_id'] in users:\n",
    "        new_users_df = new_users_df.append(row)\n",
    "\n",
    "new_users_df.to_csv(r'C:\\Users\\ineso\\FEUP-3ano\\gulbenkian-ai\\DatasetSamples\\user_sample.csv', index = False)"
   ]
  },
  {
   "cell_type": "code",
   "execution_count": 9,
   "metadata": {},
   "outputs": [],
   "source": [
    "business_df = pandas.read_csv('C:\\\\Users\\\\ineso\\\\FEUP-3ano\\\\gulbenkian-ai\\\\YelpDatasetKaggle\\\\yelp_academic_dataset_business.csv')\n",
    "new_business_df = pandas.DataFrame()\n",
    "for index, row in business_df.iterrows():\n",
    "    if row['business_id'] in businesses:\n",
    "        new_business_df = new_business_df.append(row)\n",
    "\n",
    "new_business_df.to_csv(r'C:\\Users\\ineso\\FEUP-3ano\\gulbenkian-ai\\DatasetSamples\\business_sample.csv', index = False)"
   ]
  }
 ]
}