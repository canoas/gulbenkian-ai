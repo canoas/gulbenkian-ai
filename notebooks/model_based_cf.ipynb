{
 "metadata": {
  "language_info": {
   "codemirror_mode": {
    "name": "ipython",
    "version": 3
   },
   "file_extension": ".py",
   "mimetype": "text/x-python",
   "name": "python",
   "nbconvert_exporter": "python",
   "pygments_lexer": "ipython3",
   "version": "3.6.10-final"
  },
  "orig_nbformat": 2,
  "kernelspec": {
   "name": "python3",
   "display_name": "Python 3",
   "language": "python"
  }
 },
 "nbformat": 4,
 "nbformat_minor": 2,
 "cells": [
  {
   "source": [
    "# Model Based Collaborative Filtering Experiments"
   ],
   "cell_type": "markdown",
   "metadata": {}
  },
  {
   "source": [
    "Importing libraries from surprise module for the algorithms"
   ],
   "cell_type": "markdown",
   "metadata": {}
  },
  {
   "cell_type": "code",
   "execution_count": 1,
   "metadata": {},
   "outputs": [],
   "source": [
    "import pandas as pd\n",
    "from surprise import NormalPredictor\n",
    "from surprise import Dataset\n",
    "from surprise import Reader\n",
    "from surprise.model_selection import cross_validate\n",
    "from surprise import SVD\n",
    "from surprise import accuracy\n",
    "from surprise.model_selection import train_test_split\n"
   ]
  },
  {
   "cell_type": "code",
   "execution_count": 2,
   "metadata": {},
   "outputs": [],
   "source": [
    "from surprise import SVDpp\n",
    "from surprise import KNNBasic\n",
    "from surprise import KNNWithMeans"
   ]
  },
  {
   "source": [
    "Using the vegas restaurants review pandas dataframe to build the dataset "
   ],
   "cell_type": "markdown",
   "metadata": {}
  },
  {
   "cell_type": "code",
   "execution_count": 3,
   "metadata": {},
   "outputs": [],
   "source": [
    "df = pd.read_pickle(\"C:\\\\Users\\\\ineso\\\\FEUP-3ano\\\\gulbenkian-ai\\\\data\\\\vegas-restaurants\\\\vegas_review.pickle\")\n",
    "reader = Reader(rating_scale=(1, 5))\n",
    "data = Dataset.load_from_df(df[['user_id', 'business_id', 'stars']], reader)"
   ]
  },
  {
   "source": [
    "Importing the graph for later testing of the model"
   ],
   "cell_type": "markdown",
   "metadata": {}
  },
  {
   "cell_type": "code",
   "execution_count": 8,
   "metadata": {},
   "outputs": [],
   "source": [
    "import os\n",
    "import sys\n",
    "nb_dir = os.path.split(os.getcwd())[0]\n",
    "if nb_dir not in sys.path:\n",
    "    sys.path.append(nb_dir)\n",
    "\n",
    "from group_recommender_system import *\n",
    "import networkx as nx\n",
    "import random"
   ]
  },
  {
   "cell_type": "code",
   "execution_count": null,
   "metadata": {},
   "outputs": [],
   "source": [
    "G = nx.read_gpickle(\"C:\\\\Users\\\\ineso\\\\FEUP-3ano\\\\gulbenkian-ai\\\\data\\\\vegas-restaurants\\\\vegas_graph_small.gpickle\")"
   ]
  },
  {
   "source": [
    "Splitting the data in a train set and a test set"
   ],
   "cell_type": "markdown",
   "metadata": {}
  },
  {
   "cell_type": "code",
   "execution_count": 4,
   "metadata": {},
   "outputs": [],
   "source": [
    "trainset, testset = train_test_split(data, test_size=0.20)"
   ]
  },
  {
   "source": [
    "### Single value decomposition"
   ],
   "cell_type": "markdown",
   "metadata": {}
  },
  {
   "cell_type": "code",
   "execution_count": 5,
   "metadata": {},
   "outputs": [
    {
     "output_type": "execute_result",
     "data": {
      "text/plain": [
       "<surprise.prediction_algorithms.matrix_factorization.SVD at 0x1f3d0cc25c0>"
      ]
     },
     "metadata": {},
     "execution_count": 5
    }
   ],
   "source": [
    "model = SVD()\n",
    "model.fit(trainset)"
   ]
  },
  {
   "cell_type": "code",
   "execution_count": 12,
   "metadata": {},
   "outputs": [
    {
     "output_type": "stream",
     "name": "stdout",
     "text": [
      "RMSE: 1.2886\n"
     ]
    },
    {
     "output_type": "execute_result",
     "data": {
      "text/plain": [
       "1.288601130104512"
      ]
     },
     "metadata": {},
     "execution_count": 12
    }
   ],
   "source": [
    "predictions = model.test(testset)\n",
    "accuracy.rmse(predictions)"
   ]
  },
  {
   "source": [
    "### K-Nearest Neighbors"
   ],
   "cell_type": "markdown",
   "metadata": {}
  },
  {
   "cell_type": "code",
   "execution_count": 6,
   "metadata": {},
   "outputs": [],
   "source": [
    "import pandas as pd\n",
    "import numpy as np \n",
    "import seaborn as sn \n",
    "from sklearn.model_selection import train_test_split\n",
    "from sklearn.model_selection import cross_val_score\n",
    "from sklearn.neighbors import KNeighborsClassifier\n",
    "from sklearn import metrics"
   ]
  },
  {
   "cell_type": "code",
   "execution_count": 8,
   "metadata": {},
   "outputs": [],
   "source": [
    "review_df = pd.read_pickle(\"C:\\\\Users\\\\ineso\\\\FEUP-3ano\\\\gulbenkian-ai\\\\data\\\\vegas-restaurants\\\\vegas_review.pickle\")\n",
    "rest_df = pd.read_pickle(\"C:\\\\Users\\\\ineso\\\\FEUP-3ano\\\\gulbenkian-ai\\\\data\\\\vegas-restaurants\\\\restaurant_in_vegas.pickle\")"
   ]
  },
  {
   "cell_type": "code",
   "execution_count": 14,
   "metadata": {},
   "outputs": [],
   "source": [
    "categories_iter = (set(c.split(\", \")) for c in rest_df.categories)\n",
    "categories = sorted(set.union(*categories_iter))"
   ]
  },
  {
   "cell_type": "code",
   "execution_count": 30,
   "metadata": {},
   "outputs": [],
   "source": [
    "data = pd.DataFrame(np.zeros((len(rest_df), len(categories)), dtype=np.int), columns=categories)"
   ]
  },
  {
   "cell_type": "code",
   "execution_count": 31,
   "metadata": {},
   "outputs": [
    {
     "output_type": "execute_result",
     "data": {
      "text/plain": [
       "   Acai Bowls  Accessories  Active Life  Acupuncture  Adult Entertainment  \\\n",
       "0           0            0            0            0                    0   \n",
       "1           0            0            0            0                    0   \n",
       "2           0            0            0            0                    0   \n",
       "\n",
       "   Afghan  African  Air Duct Cleaning  Aircraft Repairs  Airport Shuttles  \\\n",
       "0       0        0                  0                 0                 0   \n",
       "1       0        0                  0                 0                 0   \n",
       "2       0        0                  0                 0                 0   \n",
       "\n",
       "   ...  Windshield Installation & Repair  Wine & Spirits  Wine Bars  Wineries  \\\n",
       "0  ...                                 0               0          0         0   \n",
       "1  ...                                 0               0          0         0   \n",
       "2  ...                                 0               0          0         0   \n",
       "\n",
       "   Women's Clothing  Wraps  Yelp Events  Yoga  Zoos             business_id  \n",
       "0                 0      0            0     0     0  fnZrZlqW1Z8iWgTVDfv_MA  \n",
       "1                 0      0            0     0     0  fhNf_sg-XzZ3e7HEVGuOZg  \n",
       "2                 0      0            0     0     0  OWkS1FXNJbozn-qPg3LWxg  \n",
       "\n",
       "[3 rows x 507 columns]"
      ],
      "text/html": "<div>\n<style scoped>\n    .dataframe tbody tr th:only-of-type {\n        vertical-align: middle;\n    }\n\n    .dataframe tbody tr th {\n        vertical-align: top;\n    }\n\n    .dataframe thead th {\n        text-align: right;\n    }\n</style>\n<table border=\"1\" class=\"dataframe\">\n  <thead>\n    <tr style=\"text-align: right;\">\n      <th></th>\n      <th>Acai Bowls</th>\n      <th>Accessories</th>\n      <th>Active Life</th>\n      <th>Acupuncture</th>\n      <th>Adult Entertainment</th>\n      <th>Afghan</th>\n      <th>African</th>\n      <th>Air Duct Cleaning</th>\n      <th>Aircraft Repairs</th>\n      <th>Airport Shuttles</th>\n      <th>...</th>\n      <th>Windshield Installation &amp; Repair</th>\n      <th>Wine &amp; Spirits</th>\n      <th>Wine Bars</th>\n      <th>Wineries</th>\n      <th>Women's Clothing</th>\n      <th>Wraps</th>\n      <th>Yelp Events</th>\n      <th>Yoga</th>\n      <th>Zoos</th>\n      <th>business_id</th>\n    </tr>\n  </thead>\n  <tbody>\n    <tr>\n      <th>0</th>\n      <td>0</td>\n      <td>0</td>\n      <td>0</td>\n      <td>0</td>\n      <td>0</td>\n      <td>0</td>\n      <td>0</td>\n      <td>0</td>\n      <td>0</td>\n      <td>0</td>\n      <td>...</td>\n      <td>0</td>\n      <td>0</td>\n      <td>0</td>\n      <td>0</td>\n      <td>0</td>\n      <td>0</td>\n      <td>0</td>\n      <td>0</td>\n      <td>0</td>\n      <td>fnZrZlqW1Z8iWgTVDfv_MA</td>\n    </tr>\n    <tr>\n      <th>1</th>\n      <td>0</td>\n      <td>0</td>\n      <td>0</td>\n      <td>0</td>\n      <td>0</td>\n      <td>0</td>\n      <td>0</td>\n      <td>0</td>\n      <td>0</td>\n      <td>0</td>\n      <td>...</td>\n      <td>0</td>\n      <td>0</td>\n      <td>0</td>\n      <td>0</td>\n      <td>0</td>\n      <td>0</td>\n      <td>0</td>\n      <td>0</td>\n      <td>0</td>\n      <td>fhNf_sg-XzZ3e7HEVGuOZg</td>\n    </tr>\n    <tr>\n      <th>2</th>\n      <td>0</td>\n      <td>0</td>\n      <td>0</td>\n      <td>0</td>\n      <td>0</td>\n      <td>0</td>\n      <td>0</td>\n      <td>0</td>\n      <td>0</td>\n      <td>0</td>\n      <td>...</td>\n      <td>0</td>\n      <td>0</td>\n      <td>0</td>\n      <td>0</td>\n      <td>0</td>\n      <td>0</td>\n      <td>0</td>\n      <td>0</td>\n      <td>0</td>\n      <td>OWkS1FXNJbozn-qPg3LWxg</td>\n    </tr>\n  </tbody>\n</table>\n<p>3 rows × 507 columns</p>\n</div>"
     },
     "metadata": {},
     "execution_count": 31
    }
   ],
   "source": [
    "ids = rest_df['business_id'].tolist()\n",
    "data['business_id'] = ids\n",
    "data.head(3)"
   ]
  },
  {
   "cell_type": "code",
   "execution_count": 32,
   "metadata": {},
   "outputs": [
    {
     "output_type": "stream",
     "name": "stdout",
     "text": [
      "31886\n"
     ]
    }
   ],
   "source": [
    "for index, row in rest_df.iterrows():\n",
    "    for cat in row['categories'].split(\", \"):\n",
    "        data.at[index, cat] = 1\n",
    "    data.at[index, 'business_id'] = row['business_id']"
   ]
  },
  {
   "cell_type": "code",
   "execution_count": 42,
   "metadata": {},
   "outputs": [],
   "source": [
    "data.to_pickle(\"C:\\\\Users\\\\ineso\\\\FEUP-3ano\\\\gulbenkian-ai\\\\data\\\\vegas-restaurants\\\\rest_cat_df.pickle\")"
   ]
  },
  {
   "cell_type": "code",
   "execution_count": 45,
   "metadata": {},
   "outputs": [],
   "source": [
    "review_reduced = review_df.filter(['user_id', 'business_id', 'stars'])"
   ]
  },
  {
   "cell_type": "code",
   "execution_count": 49,
   "metadata": {},
   "outputs": [],
   "source": [
    "review_reduced.to_pickle(\"C:\\\\Users\\\\ineso\\\\FEUP-3ano\\\\gulbenkian-ai\\\\data\\\\vegas-restaurants\\\\vegas_review_reduced.pickle\")"
   ]
  },
  {
   "cell_type": "code",
   "execution_count": 50,
   "metadata": {},
   "outputs": [],
   "source": [
    "small_review_reduced = review_reduced.sample(n=100000)"
   ]
  },
  {
   "cell_type": "code",
   "execution_count": 52,
   "metadata": {},
   "outputs": [],
   "source": [
    "dataset = pd.merge(small_review_reduced, data, on='business_id')"
   ]
  },
  {
   "cell_type": "code",
   "execution_count": 64,
   "metadata": {},
   "outputs": [],
   "source": [
    "dataset = dataset.drop_duplicates(subset=['user_id', 'business_id', 'stars'])"
   ]
  },
  {
   "cell_type": "code",
   "execution_count": 65,
   "metadata": {},
   "outputs": [],
   "source": [
    "dataset = dataset.dropna()"
   ]
  },
  {
   "cell_type": "code",
   "execution_count": 67,
   "metadata": {},
   "outputs": [],
   "source": [
    "dataset.to_pickle(\"C:\\\\Users\\\\ineso\\\\FEUP-3ano\\\\gulbenkian-ai\\\\data\\\\vegas-restaurants\\\\vegas_model_df.pickle\")"
   ]
  },
  {
   "cell_type": "code",
   "execution_count": 68,
   "metadata": {},
   "outputs": [],
   "source": [
    "train, test = train_test_split(dataset, test_size=0.2)"
   ]
  },
  {
   "cell_type": "code",
   "execution_count": 83,
   "metadata": {},
   "outputs": [],
   "source": [
    "X = dataset.drop(['stars', 'business_id', 'user_id'], axis=1)"
   ]
  },
  {
   "cell_type": "code",
   "execution_count": 84,
   "metadata": {},
   "outputs": [],
   "source": [
    "y = dataset['stars']"
   ]
  },
  {
   "cell_type": "code",
   "execution_count": 85,
   "metadata": {},
   "outputs": [],
   "source": [
    "X_train, X_test, y_train, y_test = train_test_split(X, y, random_state=0, test_size=0.2)"
   ]
  },
  {
   "cell_type": "code",
   "execution_count": 86,
   "metadata": {},
   "outputs": [
    {
     "output_type": "execute_result",
     "data": {
      "text/plain": [
       "KNeighborsClassifier()"
      ]
     },
     "metadata": {},
     "execution_count": 86
    }
   ],
   "source": [
    "knn = KNeighborsClassifier(n_neighbors=5)\n",
    "knn.fit(X_train, y_train)"
   ]
  },
  {
   "cell_type": "code",
   "execution_count": 87,
   "metadata": {},
   "outputs": [],
   "source": [
    "y_pred = knn.predict(X_test)"
   ]
  },
  {
   "cell_type": "code",
   "execution_count": 88,
   "metadata": {},
   "outputs": [
    {
     "output_type": "execute_result",
     "data": {
      "text/plain": [
       "0.44251377368771566"
      ]
     },
     "metadata": {},
     "execution_count": 88
    }
   ],
   "source": [
    "metrics.accuracy_score(y_test, y_pred)"
   ]
  },
  {
   "source": [
    "### Testing on the graph"
   ],
   "cell_type": "markdown",
   "metadata": {}
  },
  {
   "cell_type": "code",
   "execution_count": 9,
   "metadata": {},
   "outputs": [
    {
     "output_type": "stream",
     "name": "stdout",
     "text": [
      "Similar users:  ['N3oNEwh0qgPqPP3Em6wJXw']\n{'Ethiopian': 4, 'Vegetarian': 4, 'Cafes': 4, 'Breakfast & Brunch': 3.5, 'Bagels': 4, 'Juice Bars & Smoothies': 4, 'Food': 3.5, 'Coffee & Tea': 4, 'Bakeries': 4, 'Tapas/Small Plates': 3, 'Tapas Bars': 3, 'Nightlife': 3, 'American (New)': 3, 'Beer': 3, 'Wine & Spirits': 3, 'Bars': 3, 'Wine Bars': 3, 'Lounges': 3, 'British': 3, 'Pubs': 3, 'Southern': 5, 'American (Traditional)': 5, 'Soul Food': 5} \n\n* M&M Soul Food Cafe - 4.317309477153939\n* Queen Victoria Pub - 3.741470549869204\n* Madhouse Coffee - 4.0505097112505535\n* Hearthstone Kitchen & Cellar - 3.9171737161089797\n"
     ]
    }
   ],
   "source": [
    "user = 'ld9Q7kd06mbl1kMzISS02g'\n",
    "similar_users = most_similar_users(G, user)\n",
    "print(\"Similar users: \", similar_users)\n",
    "\n",
    "category_ratings = predict_category_ratings(G, user, similar_users)\n",
    "print(category_ratings, \"\\n\")\n",
    "\n",
    "recommendations = set()\n",
    "for u in similar_users:\n",
    "    recommendations.update(recommend_restaurants(G, u, user))\n",
    "\n",
    "for rest in recommendations:\n",
    "    pred = model.predict(user, rest)\n",
    "    print(\"*\", G.nodes[rest]['name'], \"-\", pred.est)"
   ]
  },
  {
   "cell_type": "code",
   "execution_count": 13,
   "metadata": {},
   "outputs": [
    {
     "output_type": "stream",
     "name": "stdout",
     "text": [
      "Similar users:  ['N3oNEwh0qgPqPP3Em6wJXw']\n{'Ethiopian': 4, 'Vegetarian': 4, 'Cafes': 4, 'Breakfast & Brunch': 3.5, 'Bagels': 4, 'Juice Bars & Smoothies': 4, 'Food': 3.5, 'Coffee & Tea': 4, 'Bakeries': 4, 'Tapas/Small Plates': 3, 'Tapas Bars': 3, 'Nightlife': 3, 'American (New)': 3, 'Beer': 3, 'Wine & Spirits': 3, 'Bars': 3, 'Wine Bars': 3, 'Lounges': 3, 'British': 3, 'Pubs': 3, 'Southern': 5, 'American (Traditional)': 5, 'Soul Food': 5} \n\n* M&M Soul Food Cafe - 3.680951433341492\n* Queen Victoria Pub - 3.45632326650157\n* Madhouse Coffee - 4.21599197243397\n* Hearthstone Kitchen & Cellar - 4.385042005866605\n"
     ]
    }
   ],
   "source": [
    "user = 'ld9Q7kd06mbl1kMzISS02g'\n",
    "similar_users = most_similar_users(G, user)\n",
    "print(\"Similar users: \", similar_users)\n",
    "\n",
    "category_ratings = predict_category_ratings(G, user, similar_users)\n",
    "print(category_ratings, \"\\n\")\n",
    "\n",
    "recommendations = set()\n",
    "for u in similar_users:\n",
    "    recommendations.update(recommend_restaurants(G, u, user))\n",
    "\n",
    "for rest in recommendations:\n",
    "    pred = model.predict(user, rest)\n",
    "    print(\"*\", G.nodes[rest]['name'], \"-\", pred.est)"
   ]
  },
  {
   "cell_type": "code",
   "execution_count": null,
   "metadata": {},
   "outputs": [],
   "source": []
  }
 ]
}