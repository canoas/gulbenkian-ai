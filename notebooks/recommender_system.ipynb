{
 "metadata": {
  "language_info": {
   "codemirror_mode": {
    "name": "ipython",
    "version": 3
   },
   "file_extension": ".py",
   "mimetype": "text/x-python",
   "name": "python",
   "nbconvert_exporter": "python",
   "pygments_lexer": "ipython3",
   "version": "3.6.10-final"
  },
  "orig_nbformat": 2,
  "kernelspec": {
   "name": "python3",
   "display_name": "Python 3",
   "language": "python"
  }
 },
 "nbformat": 4,
 "nbformat_minor": 2,
 "cells": [
  {
   "cell_type": "code",
   "execution_count": 47,
   "metadata": {},
   "outputs": [],
   "source": [
    "import os\n",
    "import sys\n",
    "nb_dir = os.path.split(os.getcwd())[0]\n",
    "if nb_dir not in sys.path:\n",
    "    sys.path.append(nb_dir)"
   ]
  },
  {
   "cell_type": "code",
   "execution_count": 57,
   "metadata": {},
   "outputs": [],
   "source": [
    "from group_recommender_system import *\n",
    "import networkx as nx\n",
    "import random"
   ]
  },
  {
   "cell_type": "code",
   "execution_count": 65,
   "metadata": {},
   "outputs": [],
   "source": [
    "G = nx.read_gpickle(\"C:\\\\Users\\\\ineso\\\\FEUP-3ano\\\\gulbenkian-ai\\\\data\\\\vegas-restaurants\\\\vegas_graph_small.gpickle\")"
   ]
  },
  {
   "cell_type": "code",
   "execution_count": 85,
   "metadata": {},
   "outputs": [
    {
     "output_type": "stream",
     "name": "stdout",
     "text": [
      "User:  YrSb656bOiCRFlAeNYqQ-Q\nSimilar users:  ['N3oNEwh0qgPqPP3Em6wJXw', '7J0IbADAaexx92EWbYdAUA', 'hWbxWeotZIyDEF4AMoEKiQ', 'fOGCXk37MinXWF84XsrCMg', 'ny2lWQu52NjR-85Ps5mGHA', '2sOXgK0OuaMAAv2rShOl7A', 'byA7X9bd8Eo6vM_xv9dAaA', 'Gj8odm-SQXDIaymrgnmYCg', 'e1vr3dte1evqZPsZylZcwQ', 'IN4aHzBnyxFetZe5x9Nxvw', 'YrSb656bOiCRFlAeNYqQ-Q', 'PMyLDgCxPNo6cPu2Vb1QFA', 'S1IOo8rAOZK1T7MXQavr_A', 'JCS7cBAv_i4oQqsKmicGew', 'J80WhhnZke_9GNnV-SzwYA']\nRecommendations:  [('Hearthstone Kitchen & Cellar', 'Merkato Ethiopian Cafe', 0.06666666666666667), ('Hearthstone Kitchen & Cellar', 'Queen Victoria Pub', 0.21428571428571427), ('Hearthstone Kitchen & Cellar', 'Madhouse Coffee', 0.1875), ('Hearthstone Kitchen & Cellar', 'M&M Soul Food Cafe', 0.06666666666666667)]\n"
     ]
    }
   ],
   "source": [
    "#test_user = 'YrSb656bOiCRFlAeNYqQ-Q'\n",
    "test_user = random.choice(get_nodes_of_type(G, 'user'))\n",
    "print(\"User: \", test_user)\n",
    "\n",
    "similar_users = most_similar_users(G, test_user)\n",
    "print(\"Similar users: \", similar_users)\n",
    "\n",
    "recommendations = set()\n",
    "for u in similar_users:\n",
    "    recommendations.update(recommend_restaurants(G, u, test_user))\n",
    "\n",
    "nbrs = G.neighbors(test_user)\n",
    "\n",
    "similarities = []\n",
    "for n in nbrs:\n",
    "    for r in recommendations:\n",
    "        similarities.append((G.nodes[n]['name'], G.nodes[r]['name'], restaurant_similarity(G, n, r)))\n",
    "\n",
    "print(\"Recommendations: \", similarities)"
   ]
  },
  {
   "cell_type": "code",
   "execution_count": null,
   "metadata": {},
   "outputs": [],
   "source": []
  }
 ]
}