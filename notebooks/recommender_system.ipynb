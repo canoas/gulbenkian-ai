{
 "metadata": {
  "language_info": {
   "codemirror_mode": {
    "name": "ipython",
    "version": 3
   },
   "file_extension": ".py",
   "mimetype": "text/x-python",
   "name": "python",
   "nbconvert_exporter": "python",
   "pygments_lexer": "ipython3",
   "version": "3.6.10-final"
  },
  "orig_nbformat": 2,
  "kernelspec": {
   "name": "python3",
   "display_name": "Python 3",
   "language": "python"
  }
 },
 "nbformat": 4,
 "nbformat_minor": 2,
 "cells": [
  {
   "cell_type": "code",
   "execution_count": 278,
   "metadata": {},
   "outputs": [],
   "source": [
    "import os\n",
    "import sys\n",
    "nb_dir = os.path.split(os.getcwd())[0]\n",
    "if nb_dir not in sys.path:\n",
    "    sys.path.append(nb_dir)"
   ]
  },
  {
   "cell_type": "code",
   "execution_count": 288,
   "metadata": {},
   "outputs": [],
   "source": [
    "from group_recommender_system import *\n",
    "import networkx as nx\n",
    "import random"
   ]
  },
  {
   "cell_type": "code",
   "execution_count": 289,
   "metadata": {},
   "outputs": [
    {
     "output_type": "execute_result",
     "data": {
      "text/plain": [
       "<module 'group_recommender_system' from 'c:\\\\Users\\\\ineso\\\\FEUP-3ano\\\\gulbenkian-ai\\\\group_recommender_system\\\\__init__.py'>"
      ]
     },
     "metadata": {},
     "execution_count": 289
    }
   ],
   "source": [
    "import importlib\n",
    "importlib.reload(rs)"
   ]
  },
  {
   "cell_type": "code",
   "execution_count": 280,
   "metadata": {},
   "outputs": [],
   "source": [
    "G = nx.read_gpickle(\"C:\\\\Users\\\\ineso\\\\FEUP-3ano\\\\gulbenkian-ai\\\\data\\\\vegas-restaurants\\\\vegas_graph_small.gpickle\")"
   ]
  },
  {
   "cell_type": "code",
   "execution_count": 292,
   "metadata": {},
   "outputs": [
    {
     "output_type": "stream",
     "name": "stdout",
     "text": [
      "User:  abSv4EROV16qmh0W-xHZAA\nSimilar users:  ['SrDmD3UP8QBsJnjK4iOLZg', 'DCY_bNjVLIjVJpZjrBomgw', 'Fxzv4iufRNIyPVO0XvKmWQ', 'hMwPqwbNQV94fWSBhM4QaQ', 'C349hhMXsGVdxk6u-xf6GQ', 'aJ2Bf6IDS13QjtG_30SlRw', 'AuI6Vg60wKHTX4E5nVPbHg', 'w2Ye9CYI5DM4c_gLBJGDng', 'Yw5LynmZmKjSb4cuzgHptw', 'YVQFzWm0H72mLUh-8gzd5w', 'SqjP1cV8JwDdN0K9QULzog', '9SzSlEGovHa7py8fkOvrWQ', 'abSv4EROV16qmh0W-xHZAA', 'VzdF-Eqnp3FpKb8cYWeTSw', 'u0OJZADJMM3LwZFP-k1HXg', 'QE6-YsyTxL-iTVWUfO7TWA', 'MVRaXPXr92vF_EJbdxeZLA', 'oEnqCVEUMRjTFxVDCw2A3A', 'srXJN4ATEM1n2QLRhZM6Yg', 'NGAcu7RBt_eQFKAh5PMvFg', 'XEIuzd5ayMzNlSHww1AP8w']\n* Holsteins - Custom Built Pizza  ---  0.1\n* Holsteins - Texas de Brazil  ---  0.1\n"
     ]
    }
   ],
   "source": [
    "#test_user = 'YrSb656bOiCRFlAeNYqQ-Q'\n",
    "#test_user = 'hGYGNZsPhcRuLgUVWR_rjQ'\n",
    "test_user = random.choice(get_nodes_of_type(G, 'user'))\n",
    "print(\"User: \", test_user)\n",
    "\n",
    "similar_users = most_similar_users(G, test_user)\n",
    "print(\"Similar users: \", similar_users)\n",
    "\n",
    "recommendations = set()\n",
    "for u in similar_users:\n",
    "    recommendations.update(recommend_restaurants(G, u, test_user))\n",
    "\n",
    "nbrs = G.neighbors(test_user)\n",
    "\n",
    "for n in nbrs:\n",
    "    for r in recommendations:\n",
    "        print(\"*\", G.nodes[n]['name'], \"-\", G.nodes[r]['name'], \" --- \", restaurant_similarity(G, n, r))\n"
   ]
  },
  {
   "cell_type": "code",
   "execution_count": 295,
   "metadata": {},
   "outputs": [
    {
     "output_type": "stream",
     "name": "stdout",
     "text": [
      "User:  _Ojr37qJFwX0zZ2S0WtVqQ \n\n{'Buffets': 3, 'Breakfast & Brunch': 3, 'Restaurants': 3, 'Smokehouse': 4, 'Food': 4, 'Nightlife': 3.8333333333333335, 'American (Traditional)': 3.5, 'Southern': 4.5, 'Bars': 3.8333333333333335, 'Barbeque': 4, 'Sports Bars': 3, 'Pubs': 3.5, 'American (New)': 3.6666666666666665, 'Mexican': 2, 'Delis': 3.5, 'Vegan': 3.5, 'French': 3.5, 'Coffee & Tea': 4, 'Sandwiches': 3.5, 'Cafes': 3.5, 'Donuts': 5, 'Bakeries': 4, 'Hotels & Travel': 3, 'Resorts': 3, 'Casinos': 3, 'Japanese': 3, 'Arts & Entertainment': 3, 'Fast Food': 3, 'Vegetarian': 3, 'Salad': 3, 'Caterers': 3, 'Food Delivery Services': 3, 'Personal Chefs': 3, 'Mediterranean': 3, 'Soup': 3, 'Event Planning & Services': 3, 'Gluten-Free': 3, 'Cocktail Bars': 5, 'Gastropubs': 4, 'Irish': 4} \n\n* Pinkbox Doughnuts - 3.8\n  {'Food': 4, 'Donuts': 5, 'Bakeries': 4, 'Restaurants': 3, 'Breakfast & Brunch': 3} \n\n* Fulton Street Food Hall - 3.125\n  {'Hotels & Travel': 3, 'Resorts': 3, 'Casinos': 3, 'Delis': 3.5, 'Japanese': 3, 'Cafes': 3.5, 'Restaurants': 3, 'Arts & Entertainment': 3} \n\n* Pink Taco - 2.5\n  {'Mexican': 2, 'Restaurants': 3} \n\n* Eatt Gourmet Bistro - 3.2314814814814814\n  {'American (New)': 3.6666666666666665, 'Breakfast & Brunch': 3, 'Bakeries': 4, 'Fast Food': 3, 'Vegetarian': 3, 'Sandwiches': 3.5, 'Salad': 3, 'Food': 4, 'Caterers': 3, 'Restaurants': 3, 'Food Delivery Services': 3, 'Personal Chefs': 3, 'Mediterranean': 3, 'French': 3.5, 'Soup': 3, 'Event Planning & Services': 3, 'Vegan': 3.5, 'Gluten-Free': 3} \n\n* Yardbird Southern Table & Bar - 3.9722222222222223\n  {'Restaurants': 3, 'American (New)': 3.6666666666666665, 'Southern': 4.5, 'Nightlife': 3.8333333333333335, 'Bars': 3.8333333333333335, 'Cocktail Bars': 5} \n\n* Pt's Pub - 3.4761904761904763\n  {'Nightlife': 3.8333333333333335, 'Sports Bars': 3, 'Bars': 3.8333333333333335, 'American (Traditional)': 3.5, 'Restaurants': 3, 'Pubs': 3.5, 'American (New)': 3.6666666666666665} \n\n* Michael Mina Pub 1842 - 3.6944444444444446\n  {'Nightlife': 3.8333333333333335, 'Restaurants': 3, 'Bars': 3.8333333333333335, 'Gastropubs': 4, 'Irish': 4, 'Pubs': 3.5} \n\n* Hash House A Go Go - 3.4166666666666665\n  {'Breakfast & Brunch': 3, 'Restaurants': 3, 'Food': 4, 'American (New)': 3.6666666666666665} \n\n* Lucille's Smokehouse Bar-B-Que - 3.8333333333333335\n  {'Smokehouse': 4, 'Restaurants': 3, 'Food': 4, 'Nightlife': 3.8333333333333335, 'American (Traditional)': 3.5, 'Southern': 4.5, 'Bars': 3.8333333333333335, 'Barbeque': 4} \n\n* Baguette Cafe - 3.5\n  {'Delis': 3.5, 'Vegan': 3.5, 'Restaurants': 3, 'French': 3.5, 'Food': 4, 'Coffee & Tea': 4, 'Breakfast & Brunch': 3, 'Sandwiches': 3.5, 'Cafes': 3.5} \n\n"
     ]
    }
   ],
   "source": [
    "#test_user = 'YrSb656bOiCRFlAeNYqQ-Q'\n",
    "#test_user = 'hGYGNZsPhcRuLgUVWR_rjQ'\n",
    "test_user = '_Ojr37qJFwX0zZ2S0WtVqQ' #este tem varias categorias\n",
    "#test_user = random.choice(get_nodes_of_type(G, 'user'))\n",
    "print(\"User: \", test_user, \"\\n\")\n",
    "\n",
    "similar_users = most_similar_users(G, test_user)\n",
    "#print(\"Similar users: \", similar_users)\n",
    "\n",
    "category_ratings = predict_category_ratings(G, test_user, similar_users)\n",
    "print(category_ratings, \"\\n\")\n",
    "\n",
    "recommendations = set()\n",
    "for u in similar_users:\n",
    "    recommendations.update(rs.recommend_restaurants(G, u, test_user))\n",
    "\n",
    "for rest in recommendations:\n",
    "    ratinglist = {}\n",
    "    for cat in G.neighbors(rest):\n",
    "        if G.nodes[cat]['type'] == 'category':\n",
    "            ratinglist[cat] = category_ratings[cat]\n",
    "            \n",
    "    rating = predict_restaurant_ratings(G, category_ratings, rest)\n",
    "    print(\"*\", G.nodes[rest]['name'], \"-\", rating)\n",
    "    print(\" \", ratinglist, \"\\n\")"
   ]
  },
  {
   "cell_type": "code",
   "execution_count": null,
   "metadata": {},
   "outputs": [],
   "source": []
  }
 ]
}