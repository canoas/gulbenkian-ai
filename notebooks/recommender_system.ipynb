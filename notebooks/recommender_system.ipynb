{
 "metadata": {
  "language_info": {
   "codemirror_mode": {
    "name": "ipython",
    "version": 3
   },
   "file_extension": ".py",
   "mimetype": "text/x-python",
   "name": "python",
   "nbconvert_exporter": "python",
   "pygments_lexer": "ipython3",
   "version": "3.6.10-final"
  },
  "orig_nbformat": 2,
  "kernelspec": {
   "name": "python3",
   "display_name": "Python 3",
   "language": "python"
  }
 },
 "nbformat": 4,
 "nbformat_minor": 2,
 "cells": [
  {
   "cell_type": "code",
   "execution_count": 2,
   "metadata": {},
   "outputs": [],
   "source": [
    "import os\n",
    "import sys\n",
    "nb_dir = os.path.split(os.getcwd())[0]\n",
    "if nb_dir not in sys.path:\n",
    "    sys.path.append(nb_dir)\n",
    "\n",
    "from group_recommender_system import *\n",
    "import networkx as nx\n",
    "import random\n",
    "\n",
    "G = nx.read_gpickle(\"C:\\\\Users\\\\ineso\\\\FEUP-3ano\\\\gulbenkian-ai\\\\data\\\\vegas-restaurants\\\\vegas_graph_small.gpickle\")"
   ]
  },
  {
   "cell_type": "code",
   "execution_count": 4,
   "metadata": {},
   "outputs": [],
   "source": [
    "import statistics\n",
    "\n",
    "def median_category_rating(G, category):\n",
    "    ratings = []\n",
    "    for rest in G.neighbors(category):\n",
    "        for user in G.neighbors(rest):\n",
    "            if G.nodes[user]['type'] == 'user':\n",
    "                ratings.append(G[rest][user]['rating'])\n",
    "    return statistics.mean(ratings)"
   ]
  },
  {
   "cell_type": "code",
   "execution_count": 5,
   "metadata": {},
   "outputs": [],
   "source": [
    "def item_biases_by_category(G, category, median_rating):\n",
    "    biases = {}\n",
    "    for rest in G.neighbors(category):\n",
    "        ratings = []\n",
    "        for user in G.neighbors(rest):\n",
    "            if G.nodes[user]['type'] == 'user':\n",
    "                ratings.append(G[rest][user]['rating'])\n",
    "        biases[rest] = statistics.mean(ratings) - median_rating\n",
    "    return biases"
   ]
  },
  {
   "cell_type": "code",
   "execution_count": 6,
   "metadata": {},
   "outputs": [],
   "source": [
    "def user_biases_by_category(G, category, median_rating):\n",
    "    users = set()\n",
    "    for rest in G.neighbors(category):\n",
    "        for user in G.neighbors(rest):\n",
    "            if G.nodes[user]['type'] == 'user':\n",
    "                users.add(user)\n",
    "    \n",
    "    biases = {}\n",
    "    for user in users:\n",
    "        ratings = []\n",
    "        for restaurant in G.neighbors(user):\n",
    "            if G.has_edge(restaurant, category):\n",
    "                ratings.append(G[user][restaurant]['rating'])\n",
    "        biases[user] = statistics.mean(ratings) - median_rating\n",
    "    return biases"
   ]
  },
  {
   "cell_type": "code",
   "execution_count": 7,
   "metadata": {},
   "outputs": [],
   "source": [
    "def user_item_biases(G, user_biases, item_biases, median_rating):\n",
    "    biases = {}\n",
    "    for u in user_biases:\n",
    "        biases[u] = {}\n",
    "        for i in item_biases:\n",
    "            biases[u][i] = median_rating + user_biases[u] + item_biases[i]\n",
    "    return biases"
   ]
  },
  {
   "cell_type": "code",
   "execution_count": 16,
   "metadata": {
    "tags": []
   },
   "outputs": [
    {
     "output_type": "stream",
     "name": "stdout",
     "text": [
      "User:  BIO98HB3ZDpNpQT49q3djQ \n\nPreferences: {'Pubs': 4, 'Bars': 4, 'American (Traditional)': 4, 'Nightlife': 4, 'Food Delivery Services': 4, 'Salad': 4, 'Wraps': 4, 'Caterers': 4, 'Food': 4, 'Sandwiches': 4, 'American (New)': 4, 'Event Planning & Services': 4, 'Soup': 4} \n\n*** Wraps ***\n\nMedian:  3.8208955223880596\nUser Biases:  67\nItem Biases:  15\nShannon  to  Earl of Sandwich  ---  3 - 3.3742264288314527\nZulett  to  Angelina's Pizza  ---  2 - -0.32089552238805963\nKaren  to  Earl of Sandwich  ---  4 - 4.374226428831452\nChristian  to  Earl of Sandwich  ---  5 - 5.374226428831452\nWild  to  Tropical Smoothie Cafe  ---  1 - -0.32089552238805963\nArturo  to  Earl of Sandwich  ---  5 - 5.374226428831452\nAriana  to  Earl of Sandwich  ---  5 - 5.374226428831452\nT  to  Greens & Grill  ---  5 - 4.845771144278607\nChristel  to  Earl of Sandwich  ---  5 - 5.374226428831452\nJulie  to  Earl of Sandwich  ---  3 - 3.3742264288314527\nBrock  to  Earl of Sandwich  ---  5 - 5.374226428831452\nKevin  to  Earl of Sandwich  ---  4 - 4.374226428831452\nCynthia  to  Earl of Sandwich  ---  4 - 4.374226428831452\nDiana  to  Earl of Sandwich  ---  4 - 4.374226428831452\nJimmy  to  Earl of Sandwich  ---  4 - 4.374226428831452\nStephanie  to  Tropical Smoothie Cafe  ---  1 - -1.8208955223880596\nMohib  to  Earl of Sandwich  ---  2 - 2.3742264288314527\nTiffany  to  Earl of Sandwich  ---  5 - 5.374226428831452\nMichael  to  Earl of Sandwich  ---  3 - 3.3742264288314527\nStephen  to  Earl of Sandwich  ---  5 - 5.374226428831452\nCarrie  to  Earl of Sandwich  ---  5 - 6.17910447761194\nD  to  Nevada Chicken Cafe  ---  1 - -0.32089552238805963\nJohn  to  Earl of Sandwich  ---  5 - 5.374226428831452\nLennette  to  Nevada Chicken Cafe  ---  2 - 1.5124378109452739\nStefanie  to  Earl of Sandwich  ---  3 - 2.1791044776119404\nBeverly  to  Muscle Maker Grill - Las Vegas  ---  1 - -1.8208955223880596\nPamela  to  Earl of Sandwich  ---  5 - 5.374226428831452\nJennie  to  Earl of Sandwich  ---  4 - 4.374226428831452\nJustin  to  Greens & Grill  ---  5 - 4.845771144278607\nVictor  to  Earl of Sandwich  ---  3 - 3.3742264288314527\nTyler  to  Health Binge  ---  5 - 6.17910447761194\nJinous  to  Earl of Sandwich  ---  5 - 6.17910447761194\nJulie Kay  to  Greens & Grill  ---  1 - 0.8457711442786069\nVladimir  to  Earl of Sandwich  ---  5 - 5.374226428831452\nRaymond  to  Earl of Sandwich  ---  4 - 4.374226428831452\nAileen  to  Earl of Sandwich  ---  5 - 5.374226428831452\nAllison  to  Nevada Chicken Cafe  ---  4 - 2.6791044776119404\nTrish  to  Tropical Smoothie Cafe  ---  4 - 2.6791044776119404\nZeela  to  Earl of Sandwich  ---  4 - 4.374226428831452\nDanielle  to  Earl of Sandwich  ---  4 - 4.374226428831452\nShahbod  to  Earl of Sandwich  ---  4 - 4.374226428831452\nBurt  to  Nevada Chicken Cafe  ---  4 - 3.512437810945274\nSusana  to  Earl of Sandwich  ---  5 - 5.374226428831452\nJoe  to  Earl of Sandwich  ---  5 - 5.374226428831452\nLei  to  Earl of Sandwich  ---  5 - 5.374226428831452\nAileen  to  Nevada Chicken Cafe  ---  4 - 3.512437810945274\nOulie  to  Earl of Sandwich  ---  4 - 4.374226428831452\nChristi  to  Woods Family Sandwiches  ---  5 - 6.17910447761194\nDebbie  to  Earl of Sandwich  ---  5 - 5.374226428831452\nRuss  to  Port of Subs  ---  4 - 4.67910447761194\nAl  to  Earl of Sandwich  ---  2 - 2.3742264288314527\nMark  to  Port of Subs  ---  5 - 5.67910447761194\nC  to  Woods Family Sandwiches  ---  5 - 6.17910447761194\nCourtney  to  Angelina's Pizza  ---  1 - -1.3208955223880596\nHeather  to  Earl of Sandwich  ---  4 - 4.374226428831452\nJ  to  Earl of Sandwich  ---  1 - -1.8208955223880596\nJonathan  to  Nevada Chicken Cafe  ---  1 - -0.32089552238805963\nCrystal  to  Earl of Sandwich  ---  4 - 4.374226428831452\nNancy  to  Earl of Sandwich  ---  4 - 4.374226428831452\nLisa  to  Earl of Sandwich  ---  5 - 5.374226428831452\nLouisa  to  Earl of Sandwich  ---  4 - 4.374226428831452\nKhoa  to  Incognito Wraps  ---  5 - 6.17910447761194\nKenny  to  Nevada Chicken Cafe  ---  4 - 2.6791044776119404\nSandra  to  Earl of Sandwich  ---  5 - 5.374226428831452\nChris  to  Earl of Sandwich  ---  3 - 3.3742264288314527\nAnton  to  Earl of Sandwich  ---  5 - 5.374226428831452\nHurjane  to  Earl of Sandwich  ---  3 - 3.3742264288314527\n\nRating predictions\n --- Woods Family Sandwiches - 5.17910447761194\n --- Nevada Chicken Cafe - 2.6791044776119404\n --- Angelina's Pizza - 1.6791044776119404\n --- Nevada Chicken Cafe - 3.512437810945274\n --- Health Binge - 5.17910447761194\n --- Incognito Wraps - 5.17910447761194\n --- Tropical Smoothie Cafe - 1.1791044776119404\n --- Earl of Sandwich - 5.17910447761194\n --- Muscle Maker Grill - Las Vegas - 1.1791044776119404\n --- Greens & Grill - 3.845771144278607\n --- Earl of Sandwich - 3.1791044776119404\n --- Tropical Smoothie Cafe - 2.6791044776119404\n --- Earl of Sandwich - 1.1791044776119404\n --- Port of Subs - 4.67910447761194\n"
     ]
    }
   ],
   "source": [
    "#test_user = random.choice(get_nodes_of_type(G, 'user'))\n",
    "test_user = 'BIO98HB3ZDpNpQT49q3djQ'\n",
    "print(\"User: \", test_user, \"\\n\")\n",
    "preferences = category_preference_list(G, test_user)\n",
    "print(\"Preferences:\", preferences, \"\\n\")\n",
    "\n",
    "category = 'Wraps'\n",
    "print(\"***\" , category, \"***\\n\")\n",
    "\n",
    "median_rating = median_category_rating(G, category) \n",
    "print(\"Median: \", median_rating)\n",
    "\n",
    "user_biases = user_biases_by_category(G, category, median_rating)\n",
    "print(\"User Biases: \", len(user_biases))\n",
    "\n",
    "item_biases = item_biases_by_category(G, category, median_rating)\n",
    "print(\"Item Biases: \", len(item_biases.keys()))\n",
    "\n",
    "u_i_biases = user_item_biases(G, user_biases, item_biases, median_rating)\n",
    "\n",
    "for user in user_biases:\n",
    "    for item in item_biases:\n",
    "        if G.has_edge(user, item):\n",
    "            print(G.nodes[user]['name'],\" to \", G.nodes[item]['name'], \" --- \", G[user][item]['rating'], \"-\", u_i_biases[user][item])\n",
    "print()\n",
    "\n",
    "print(\"Rating predictions\")\n",
    "for r in G.neighbors(category):\n",
    "    if(r not in G.neighbors(test_user)):\n",
    "        print(\" ---\", G.nodes[r]['name'], \"-\", u_i_biases[test_user][r])\n",
    "       "
   ]
  },
  {
   "cell_type": "code",
   "execution_count": 23,
   "metadata": {},
   "outputs": [
    {
     "output_type": "stream",
     "name": "stdout",
     "text": [
      "{'4A92tEwfs7tq4APkSt2ytA': {'Meat Shops': 5, 'Butcher': 5, 'Food': 5, 'Steakhouses': 5, 'Specialty Food': 5}, 'BXRlUjTE5A6ktc5pZbU3TA': {'Meat Shops': 5, 'Butcher': 5, 'Food': 5, 'Steakhouses': 5, 'Specialty Food': 5}, '5005LUoMw8RJckJT_w9u3A': {'Meat Shops': 2, 'Butcher': 2, 'Food': 2, 'Steakhouses': 2, 'Specialty Food': 2}, 'KVwTekIxO50OCC90t8Pp5A': {'Meat Shops': 5, 'Butcher': 5, 'Food': 5, 'Steakhouses': 5, 'Specialty Food': 5}, 'HzQEnTmOYsgVkTQvQCw4Jg': {'Meat Shops': 5, 'Butcher': 5, 'Food': 5, 'Steakhouses': 5, 'Specialty Food': 5}, 'nBTk93i1C__uQ8_-Vdj5_w': {'Meat Shops': 3, 'Butcher': 3, 'Food': 3, 'Steakhouses': 3, 'Specialty Food': 3}, 'PnaEwJPxwuYVIO269NZE0A': {'Meat Shops': 5, 'Butcher': 5, 'Food': 5, 'Steakhouses': 5, 'Specialty Food': 5}, 'a6tBYL5nqGe6CMXSjN_eDQ': {'Meat Shops': 3, 'Butcher': 3, 'Food': 3, 'Steakhouses': 3, 'Specialty Food': 3}, 'E0NyDRY26hv5XEsyxaI2YQ': {'Meat Shops': 4, 'Butcher': 4, 'Food': 4, 'Steakhouses': 4, 'Specialty Food': 4}, 'bivRZ7s6Z6cZsu1u_YvbQw': {'Meat Shops': 5, 'Butcher': 5, 'Food': 5, 'Steakhouses': 5, 'Specialty Food': 5}, 'VtXrJdJeg_Ie9bv0lCfXnw': {'Meat Shops': 5, 'Butcher': 5, 'Food': 5, 'Steakhouses': 5, 'Specialty Food': 5}, 'Ga7bEEgQiS2haIim3Cs_kw': {'Meat Shops': 5, 'Butcher': 5, 'Food': 5, 'Steakhouses': 5, 'Specialty Food': 5}, 'mG-eqESNaIc8xnAqH7xxFw': {'Meat Shops': 5, 'Butcher': 5, 'Food': 5, 'Steakhouses': 5, 'Specialty Food': 5}, 'GkhjsgQ8SxShVeD-PZhI0A': {'Meat Shops': 5, 'Butcher': 5, 'Food': 5, 'Steakhouses': 5, 'Specialty Food': 5}, '60skTN6p8SdQ2sGNKL0vRQ': {'Golf': 5, 'Arts & Entertainment': 5, 'Country Clubs': 5, 'Active Life': 5, 'Venues & Event Spaces': 5, 'Fitness & Instruction': 5, 'Caterers': 5, 'Event Planning & Services': 5, 'Gyms': 5, 'Meat Shops': 3, 'Butcher': 3, 'Food': 3, 'Steakhouses': 3, 'Specialty Food': 3, 'Sandwiches': 5, 'Fast Food': 5, 'Salad': 5, 'American (New)': 5, 'American (Traditional)': 5, 'Barbeque': 5}, '3pB9o92DCmT9S2lCfsL6ig': {'Meat Shops': 5, 'Butcher': 5, 'Food': 5, 'Steakhouses': 5, 'Specialty Food': 5}, 'r7jAZKeo-u77uZ2Une7m6w': {'Meat Shops': 5, 'Butcher': 5, 'Food': 5, 'Steakhouses': 5, 'Specialty Food': 5}, 'n_UcypOj7YW8gdR43XIUSQ': {'Meat Shops': 4, 'Butcher': 4, 'Food': 4, 'Steakhouses': 4, 'Specialty Food': 4}, 'J3bjniWRiPOP2oJySh1THQ': {'Meat Shops': 5, 'Butcher': 5, 'Food': 5, 'Steakhouses': 5, 'Specialty Food': 5}, 'z1tGfRDgfhfkV8ehNLiJrQ': {'Nightlife': 4, 'Bars': 4, 'Food': 4, 'Fondue': 4, 'American (New)': 4, 'Gastropubs': 4, 'Event Planning & Services': 4, 'Beer': 4, 'Wine & Spirits': 4, 'Venues & Event Spaces': 4, 'Meat Shops': 4, 'Butcher': 4, 'Steakhouses': 4, 'Specialty Food': 4}, '_4iFII6X0khLqNGarl0oIA': {'Meat Shops': 5, 'Butcher': 5, 'Food': 5, 'Steakhouses': 5, 'Specialty Food': 5}, 'bWJWcQyDKtFSvsTW2tR3hw': {'American (New)': 2, 'Breweries': 2, 'Food': 2, 'Asian Fusion': 5, 'Japanese': 5, 'Hawaiian': 5, 'Meat Shops': 2, 'Butcher': 2, 'Steakhouses': 2, 'Specialty Food': 2}, 'MMfOGic8DHfcXB00Rh0PfQ': {'Meat Shops': 5, 'Butcher': 5, 'Food': 5, 'Steakhouses': 5, 'Specialty Food': 5}, 'wOpzh1RYcz-SLu55NEaaBg': {'Meat Shops': 3, 'Butcher': 3, 'Food': 3, 'Steakhouses': 3, 'Specialty Food': 3}, 'dG-c6bzkGQ_nq73Z-v9BXw': {'Meat Shops': 5, 'Butcher': 5, 'Food': 5, 'Steakhouses': 5, 'Specialty Food': 5}, 'AAzTkBkesJVZZ9sgZ50JUg': {'Meat Shops': 5, 'Butcher': 5, 'Food': 5, 'Steakhouses': 5, 'Specialty Food': 5}, 'MnDtaLFQqQGN3Tq6Ey7v3Q': {'Meat Shops': 5, 'Butcher': 5, 'Food': 5, 'Steakhouses': 5, 'Specialty Food': 5}, 'I67-NJxgkjm01sXMxNPHSw': {'Meat Shops': 5, 'Butcher': 5, 'Food': 5, 'Steakhouses': 5, 'Specialty Food': 5}}\n"
     ]
    }
   ],
   "source": [
    "user = random.choice(get_nodes_of_type(G, 'user'))\n",
    "similar_users = {}\n",
    "for r in G.neighbors(user):\n",
    "        for c in G.neighbors(r): \n",
    "            if G.nodes[c]['type'] == 'user' and c != user and c not in similar_users:\n",
    "                similar_users[c] = category_preference_list(G, c)\n",
    "print(similar_users)"
   ]
  },
  {
   "cell_type": "code",
   "execution_count": 12,
   "metadata": {},
   "outputs": [
    {
     "output_type": "stream",
     "name": "stdout",
     "text": [
      "User:  _Ojr37qJFwX0zZ2S0WtVqQ\nSimilar users:  ['s_JDz1gBlk8nDgwiFj9_cA', 'XMv3rplCwRGTuzYA2VwzRQ', 'pirzWkMyq6SahyufAe8jVg', 'F6lHT23hTEjOg8FRy9Iv3Q', 'j2Q3ObT4qmBuI7UpLSu0Ig', 'FOy0Qrkw54VKDEWIw7T-jw', 'UNV0c172_2RZBkviuwFQfQ']\n* Wicked Spoon - Pt's Pub  ---  0.1111111111111111\n"
     ]
    }
   ],
   "source": [
    "#test_user = 'YrSb656bOiCRFlAeNYqQ-Q'\n",
    "#test_user = 'hGYGNZsPhcRuLgUVWR_rjQ'\n",
    "test_user = '_Ojr37qJFwX0zZ2S0WtVqQ'\n",
    "#test_user = random.choice(get_nodes_of_type(G, 'user'))\n",
    "print(\"User: \", test_user)\n",
    "\n",
    "other_users = most_similar_users(G, test_user)\n",
    "print(\"Similar users: \", other_users)\n",
    "\n",
    "recommendations = set()\n",
    "for u in other_users:\n",
    "    recommendations.update(recommend_restaurants(G, u, test_user))\n",
    "\n",
    "nbrs = G.neighbors(test_user)\n",
    "\n",
    "for n in nbrs:\n",
    "    for r in recommendations:\n",
    "        print(\"*\", G.nodes[n]['name'], \"-\", G.nodes[r]['name'], \" --- \", restaurant_similarity(G, n, r))\n"
   ]
  },
  {
   "cell_type": "code",
   "execution_count": 17,
   "metadata": {},
   "outputs": [
    {
     "output_type": "stream",
     "name": "stdout",
     "text": [
      "User:  ld9Q7kd06mbl1kMzISS02g \n\nSimilar users:  ['N3oNEwh0qgPqPP3Em6wJXw']\n{'Ethiopian': 4, 'Vegetarian': 4, 'Cafes': 4, 'Breakfast & Brunch': 3.5, 'Bagels': 4, 'Juice Bars & Smoothies': 4, 'Food': 3.5, 'Coffee & Tea': 4, 'Bakeries': 4, 'Tapas/Small Plates': 3, 'Tapas Bars': 3, 'Nightlife': 3, 'American (New)': 3, 'Beer': 3, 'Wine & Spirits': 3, 'Bars': 3, 'Wine Bars': 3, 'Lounges': 3, 'British': 3, 'Pubs': 3, 'Southern': 5, 'American (Traditional)': 5, 'Soul Food': 5} \n\n* Madhouse Coffee - 3.8333333333333335\n  {'Breakfast & Brunch': 3.5, 'Bagels': 4, 'Juice Bars & Smoothies': 4, 'Food': 3.5, 'Coffee & Tea': 4, 'Bakeries': 4} \n\n* Hearthstone Kitchen & Cellar - 3.090909090909091\n  {'Tapas/Small Plates': 3, 'Food': 3.5, 'Tapas Bars': 3, 'Nightlife': 3, 'American (New)': 3, 'Beer': 3, 'Wine & Spirits': 3, 'Bars': 3, 'Wine Bars': 3, 'Lounges': 3, 'Breakfast & Brunch': 3.5} \n\n* Queen Victoria Pub - 3\n  {'British': 3, 'Nightlife': 3, 'Pubs': 3, 'Bars': 3} \n\n* M&M Soul Food Cafe - 5\n  {'Southern': 5, 'American (Traditional)': 5, 'Soul Food': 5} \n\n"
     ]
    }
   ],
   "source": [
    "#test_user = 'YrSb656bOiCRFlAeNYqQ-Q'\n",
    "#test_user = 'hGYGNZsPhcRuLgUVWR_rjQ'\n",
    "#test_user = '_Ojr37qJFwX0zZ2S0WtVqQ' #este tem varias categorias\n",
    "test_user = random.choice(get_nodes_of_type(G, 'user'))\n",
    "print(\"User: \", test_user, \"\\n\")\n",
    "\n",
    "similar_users = most_similar_users(G, test_user)\n",
    "print(\"Similar users: \", similar_users)\n",
    "\n",
    "category_ratings = predict_category_ratings(G, test_user, similar_users)\n",
    "print(category_ratings, \"\\n\")\n",
    "\n",
    "recommendations = set()\n",
    "for u in similar_users:\n",
    "    recommendations.update(recommend_restaurants(G, u, test_user))\n",
    "\n",
    "for rest in recommendations:\n",
    "    ratinglist = {}\n",
    "    for cat in G.neighbors(rest):\n",
    "        if G.nodes[cat]['type'] == 'category':\n",
    "            ratinglist[cat] = category_ratings[cat]\n",
    "            \n",
    "    rating = predict_restaurant_ratings(G, category_ratings, rest)\n",
    "    print(\"*\", G.nodes[rest]['name'], \"-\", rating)\n",
    "    print(\" \", ratinglist, \"\\n\")"
   ]
  },
  {
   "cell_type": "code",
   "execution_count": null,
   "metadata": {},
   "outputs": [],
   "source": []
  }
 ]
}