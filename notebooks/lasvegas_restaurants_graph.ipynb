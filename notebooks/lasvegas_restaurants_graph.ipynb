{
 "metadata": {
  "language_info": {
   "codemirror_mode": {
    "name": "ipython",
    "version": 3
   },
   "file_extension": ".py",
   "mimetype": "text/x-python",
   "name": "python",
   "nbconvert_exporter": "python",
   "pygments_lexer": "ipython3",
   "version": "3.6.10-final"
  },
  "orig_nbformat": 2,
  "kernelspec": {
   "name": "python3",
   "display_name": "Python 3",
   "language": "python"
  }
 },
 "nbformat": 4,
 "nbformat_minor": 2,
 "cells": [
  {
   "cell_type": "code",
   "execution_count": 1,
   "metadata": {},
   "outputs": [],
   "source": [
    "import json\n",
    "import pandas as pd"
   ]
  },
  {
   "cell_type": "code",
   "execution_count": 5,
   "metadata": {},
   "outputs": [],
   "source": [
    "frames_review = []\n",
    "for chunk in pd.read_json('./YelpDatasetKaggle/yelp_academic_dataset_review.json', lines=True, chunksize=20000):\n",
    "    frames_review.append(chunk)\n",
    "review=pd.concat(frames_review)"
   ]
  },
  {
   "cell_type": "code",
   "execution_count": 6,
   "metadata": {},
   "outputs": [],
   "source": [
    "frames = []\n",
    "for chunk in pd.read_json('./YelpDatasetKaggle/yelp_academic_dataset_user.json', lines=True, chunksize = 10000):\n",
    "    frames.append(chunk)\n",
    "user = pd.concat(frames)"
   ]
  },
  {
   "cell_type": "code",
   "execution_count": 7,
   "metadata": {},
   "outputs": [],
   "source": [
    "frames_business = []\n",
    "for chunk in pd.read_json('./YelpDatasetKaggle/yelp_academic_dataset_business.json', lines=True, chunksize = 10000):\n",
    "    frames_business.append(chunk)\n",
    "business = pd.concat(frames_business)"
   ]
  },
  {
   "cell_type": "code",
   "execution_count": 9,
   "metadata": {},
   "outputs": [
    {
     "output_type": "execute_result",
     "data": {
      "text/plain": [
       "Las Vegas     31631\n",
       "Toronto       20366\n",
       "Phoenix       20171\n",
       "Charlotte     10422\n",
       "Scottsdale     9342\n",
       "Name: city, dtype: int64"
      ]
     },
     "metadata": {},
     "execution_count": 9
    }
   ],
   "source": [
    "business['city'].value_counts().head()"
   ]
  },
  {
   "cell_type": "code",
   "execution_count": 10,
   "metadata": {},
   "outputs": [],
   "source": [
    "business_vegas=business[business['city']=='Las Vegas']"
   ]
  },
  {
   "cell_type": "code",
   "execution_count": 12,
   "metadata": {},
   "outputs": [],
   "source": [
    "business_vegas=business_vegas.reset_index(drop=True)"
   ]
  },
  {
   "cell_type": "code",
   "execution_count": 13,
   "metadata": {},
   "outputs": [],
   "source": [
    "import re\n",
    "business_vegas['restaurant']=business_vegas['categories'].str.contains('Restaurants',flags=re.IGNORECASE)"
   ]
  },
  {
   "cell_type": "code",
   "execution_count": 14,
   "metadata": {},
   "outputs": [],
   "source": [
    "business_vegas_restaurant=business_vegas[business_vegas['restaurant']==True]"
   ]
  },
  {
   "cell_type": "code",
   "execution_count": 15,
   "metadata": {},
   "outputs": [
    {
     "output_type": "execute_result",
     "data": {
      "text/plain": [
       "               business_id                                name  \\\n",
       "2   fnZrZlqW1Z8iWgTVDfv_MA                           Carl's Jr   \n",
       "3   fhNf_sg-XzZ3e7HEVGuOZg               Meat Chix And Wieners   \n",
       "10  OWkS1FXNJbozn-qPg3LWxg                   Mama Napoli Pizza   \n",
       "12  MTx-Zdl_KcU_z9G832XAjg                           Taco Bell   \n",
       "15  Q_dh08clYUPj13GmCRzIVA  Kulinarya Express Filipino Kitchen   \n",
       "\n",
       "                           address       city state postal_code   latitude  \\\n",
       "2             9595 W Tropicana Ave  Las Vegas    NV       89147  36.099738   \n",
       "3              6530 S Decatur Blvd  Las Vegas    NV       89118  36.071196   \n",
       "10                                  Las Vegas    NV       89109  36.128561   \n",
       "12               8033 N Durango Dr  Las Vegas    NV       89131  36.307495   \n",
       "15  7960 S Rainbow Blvd, Ste 8000A  Las Vegas    NV       89139  36.043663   \n",
       "\n",
       "     longitude  stars  review_count  is_open  \\\n",
       "2  -115.301568    2.5            15        0   \n",
       "3  -115.207463    3.0            10        0   \n",
       "10 -115.171130    4.5            11        1   \n",
       "12 -115.279059    2.5            37        1   \n",
       "15 -115.241881    4.0            82        0   \n",
       "\n",
       "                                           attributes  \\\n",
       "2   {'Alcohol': 'u'none'', 'WiFi': 'u'no'', 'GoodF...   \n",
       "3   {'RestaurantsPriceRange2': '2', 'BusinessParki...   \n",
       "10  {'RestaurantsDelivery': 'False', 'BusinessAcce...   \n",
       "12  {'OutdoorSeating': 'False', 'Alcohol': 'u'none...   \n",
       "15  {'BusinessParking': '{'garage': False, 'street...   \n",
       "\n",
       "                                           categories  \\\n",
       "2                     Mexican, Restaurants, Fast Food   \n",
       "3   Burgers, Restaurants, American (Traditional), ...   \n",
       "10              Food, Food Trucks, Restaurants, Pizza   \n",
       "12                             Fast Food, Restaurants   \n",
       "15  Filipino, Restaurants, Breakfast & Brunch, Foo...   \n",
       "\n",
       "                                                hours restaurant  \n",
       "2                                                None       True  \n",
       "3   {'Monday': '11:0-22:0', 'Tuesday': '11:0-22:0'...       True  \n",
       "10                             {'Friday': '18:0-0:0'}       True  \n",
       "12                                               None       True  \n",
       "15  {'Monday': '0:0-0:0', 'Tuesday': '10:0-20:0', ...       True  "
      ],
      "text/html": "<div>\n<style scoped>\n    .dataframe tbody tr th:only-of-type {\n        vertical-align: middle;\n    }\n\n    .dataframe tbody tr th {\n        vertical-align: top;\n    }\n\n    .dataframe thead th {\n        text-align: right;\n    }\n</style>\n<table border=\"1\" class=\"dataframe\">\n  <thead>\n    <tr style=\"text-align: right;\">\n      <th></th>\n      <th>business_id</th>\n      <th>name</th>\n      <th>address</th>\n      <th>city</th>\n      <th>state</th>\n      <th>postal_code</th>\n      <th>latitude</th>\n      <th>longitude</th>\n      <th>stars</th>\n      <th>review_count</th>\n      <th>is_open</th>\n      <th>attributes</th>\n      <th>categories</th>\n      <th>hours</th>\n      <th>restaurant</th>\n    </tr>\n  </thead>\n  <tbody>\n    <tr>\n      <th>2</th>\n      <td>fnZrZlqW1Z8iWgTVDfv_MA</td>\n      <td>Carl's Jr</td>\n      <td>9595 W Tropicana Ave</td>\n      <td>Las Vegas</td>\n      <td>NV</td>\n      <td>89147</td>\n      <td>36.099738</td>\n      <td>-115.301568</td>\n      <td>2.5</td>\n      <td>15</td>\n      <td>0</td>\n      <td>{'Alcohol': 'u'none'', 'WiFi': 'u'no'', 'GoodF...</td>\n      <td>Mexican, Restaurants, Fast Food</td>\n      <td>None</td>\n      <td>True</td>\n    </tr>\n    <tr>\n      <th>3</th>\n      <td>fhNf_sg-XzZ3e7HEVGuOZg</td>\n      <td>Meat Chix And Wieners</td>\n      <td>6530 S Decatur Blvd</td>\n      <td>Las Vegas</td>\n      <td>NV</td>\n      <td>89118</td>\n      <td>36.071196</td>\n      <td>-115.207463</td>\n      <td>3.0</td>\n      <td>10</td>\n      <td>0</td>\n      <td>{'RestaurantsPriceRange2': '2', 'BusinessParki...</td>\n      <td>Burgers, Restaurants, American (Traditional), ...</td>\n      <td>{'Monday': '11:0-22:0', 'Tuesday': '11:0-22:0'...</td>\n      <td>True</td>\n    </tr>\n    <tr>\n      <th>10</th>\n      <td>OWkS1FXNJbozn-qPg3LWxg</td>\n      <td>Mama Napoli Pizza</td>\n      <td></td>\n      <td>Las Vegas</td>\n      <td>NV</td>\n      <td>89109</td>\n      <td>36.128561</td>\n      <td>-115.171130</td>\n      <td>4.5</td>\n      <td>11</td>\n      <td>1</td>\n      <td>{'RestaurantsDelivery': 'False', 'BusinessAcce...</td>\n      <td>Food, Food Trucks, Restaurants, Pizza</td>\n      <td>{'Friday': '18:0-0:0'}</td>\n      <td>True</td>\n    </tr>\n    <tr>\n      <th>12</th>\n      <td>MTx-Zdl_KcU_z9G832XAjg</td>\n      <td>Taco Bell</td>\n      <td>8033 N Durango Dr</td>\n      <td>Las Vegas</td>\n      <td>NV</td>\n      <td>89131</td>\n      <td>36.307495</td>\n      <td>-115.279059</td>\n      <td>2.5</td>\n      <td>37</td>\n      <td>1</td>\n      <td>{'OutdoorSeating': 'False', 'Alcohol': 'u'none...</td>\n      <td>Fast Food, Restaurants</td>\n      <td>None</td>\n      <td>True</td>\n    </tr>\n    <tr>\n      <th>15</th>\n      <td>Q_dh08clYUPj13GmCRzIVA</td>\n      <td>Kulinarya Express Filipino Kitchen</td>\n      <td>7960 S Rainbow Blvd, Ste 8000A</td>\n      <td>Las Vegas</td>\n      <td>NV</td>\n      <td>89139</td>\n      <td>36.043663</td>\n      <td>-115.241881</td>\n      <td>4.0</td>\n      <td>82</td>\n      <td>0</td>\n      <td>{'BusinessParking': '{'garage': False, 'street...</td>\n      <td>Filipino, Restaurants, Breakfast &amp; Brunch, Foo...</td>\n      <td>{'Monday': '0:0-0:0', 'Tuesday': '10:0-20:0', ...</td>\n      <td>True</td>\n    </tr>\n  </tbody>\n</table>\n</div>"
     },
     "metadata": {},
     "execution_count": 15
    }
   ],
   "source": [
    "business_vegas_restaurant.head()"
   ]
  },
  {
   "cell_type": "code",
   "execution_count": 16,
   "metadata": {},
   "outputs": [
    {
     "output_type": "execute_result",
     "data": {
      "text/plain": [
       "              business_id                                name  \\\n",
       "0  fnZrZlqW1Z8iWgTVDfv_MA                           Carl's Jr   \n",
       "1  fhNf_sg-XzZ3e7HEVGuOZg               Meat Chix And Wieners   \n",
       "2  OWkS1FXNJbozn-qPg3LWxg                   Mama Napoli Pizza   \n",
       "3  MTx-Zdl_KcU_z9G832XAjg                           Taco Bell   \n",
       "4  Q_dh08clYUPj13GmCRzIVA  Kulinarya Express Filipino Kitchen   \n",
       "\n",
       "                          address       city state postal_code   latitude  \\\n",
       "0            9595 W Tropicana Ave  Las Vegas    NV       89147  36.099738   \n",
       "1             6530 S Decatur Blvd  Las Vegas    NV       89118  36.071196   \n",
       "2                                  Las Vegas    NV       89109  36.128561   \n",
       "3               8033 N Durango Dr  Las Vegas    NV       89131  36.307495   \n",
       "4  7960 S Rainbow Blvd, Ste 8000A  Las Vegas    NV       89139  36.043663   \n",
       "\n",
       "    longitude  stars  review_count  is_open  \\\n",
       "0 -115.301568    2.5            15        0   \n",
       "1 -115.207463    3.0            10        0   \n",
       "2 -115.171130    4.5            11        1   \n",
       "3 -115.279059    2.5            37        1   \n",
       "4 -115.241881    4.0            82        0   \n",
       "\n",
       "                                          attributes  \\\n",
       "0  {'Alcohol': 'u'none'', 'WiFi': 'u'no'', 'GoodF...   \n",
       "1  {'RestaurantsPriceRange2': '2', 'BusinessParki...   \n",
       "2  {'RestaurantsDelivery': 'False', 'BusinessAcce...   \n",
       "3  {'OutdoorSeating': 'False', 'Alcohol': 'u'none...   \n",
       "4  {'BusinessParking': '{'garage': False, 'street...   \n",
       "\n",
       "                                          categories  \\\n",
       "0                    Mexican, Restaurants, Fast Food   \n",
       "1  Burgers, Restaurants, American (Traditional), ...   \n",
       "2              Food, Food Trucks, Restaurants, Pizza   \n",
       "3                             Fast Food, Restaurants   \n",
       "4  Filipino, Restaurants, Breakfast & Brunch, Foo...   \n",
       "\n",
       "                                               hours restaurant  \n",
       "0                                               None       True  \n",
       "1  {'Monday': '11:0-22:0', 'Tuesday': '11:0-22:0'...       True  \n",
       "2                             {'Friday': '18:0-0:0'}       True  \n",
       "3                                               None       True  \n",
       "4  {'Monday': '0:0-0:0', 'Tuesday': '10:0-20:0', ...       True  "
      ],
      "text/html": "<div>\n<style scoped>\n    .dataframe tbody tr th:only-of-type {\n        vertical-align: middle;\n    }\n\n    .dataframe tbody tr th {\n        vertical-align: top;\n    }\n\n    .dataframe thead th {\n        text-align: right;\n    }\n</style>\n<table border=\"1\" class=\"dataframe\">\n  <thead>\n    <tr style=\"text-align: right;\">\n      <th></th>\n      <th>business_id</th>\n      <th>name</th>\n      <th>address</th>\n      <th>city</th>\n      <th>state</th>\n      <th>postal_code</th>\n      <th>latitude</th>\n      <th>longitude</th>\n      <th>stars</th>\n      <th>review_count</th>\n      <th>is_open</th>\n      <th>attributes</th>\n      <th>categories</th>\n      <th>hours</th>\n      <th>restaurant</th>\n    </tr>\n  </thead>\n  <tbody>\n    <tr>\n      <th>0</th>\n      <td>fnZrZlqW1Z8iWgTVDfv_MA</td>\n      <td>Carl's Jr</td>\n      <td>9595 W Tropicana Ave</td>\n      <td>Las Vegas</td>\n      <td>NV</td>\n      <td>89147</td>\n      <td>36.099738</td>\n      <td>-115.301568</td>\n      <td>2.5</td>\n      <td>15</td>\n      <td>0</td>\n      <td>{'Alcohol': 'u'none'', 'WiFi': 'u'no'', 'GoodF...</td>\n      <td>Mexican, Restaurants, Fast Food</td>\n      <td>None</td>\n      <td>True</td>\n    </tr>\n    <tr>\n      <th>1</th>\n      <td>fhNf_sg-XzZ3e7HEVGuOZg</td>\n      <td>Meat Chix And Wieners</td>\n      <td>6530 S Decatur Blvd</td>\n      <td>Las Vegas</td>\n      <td>NV</td>\n      <td>89118</td>\n      <td>36.071196</td>\n      <td>-115.207463</td>\n      <td>3.0</td>\n      <td>10</td>\n      <td>0</td>\n      <td>{'RestaurantsPriceRange2': '2', 'BusinessParki...</td>\n      <td>Burgers, Restaurants, American (Traditional), ...</td>\n      <td>{'Monday': '11:0-22:0', 'Tuesday': '11:0-22:0'...</td>\n      <td>True</td>\n    </tr>\n    <tr>\n      <th>2</th>\n      <td>OWkS1FXNJbozn-qPg3LWxg</td>\n      <td>Mama Napoli Pizza</td>\n      <td></td>\n      <td>Las Vegas</td>\n      <td>NV</td>\n      <td>89109</td>\n      <td>36.128561</td>\n      <td>-115.171130</td>\n      <td>4.5</td>\n      <td>11</td>\n      <td>1</td>\n      <td>{'RestaurantsDelivery': 'False', 'BusinessAcce...</td>\n      <td>Food, Food Trucks, Restaurants, Pizza</td>\n      <td>{'Friday': '18:0-0:0'}</td>\n      <td>True</td>\n    </tr>\n    <tr>\n      <th>3</th>\n      <td>MTx-Zdl_KcU_z9G832XAjg</td>\n      <td>Taco Bell</td>\n      <td>8033 N Durango Dr</td>\n      <td>Las Vegas</td>\n      <td>NV</td>\n      <td>89131</td>\n      <td>36.307495</td>\n      <td>-115.279059</td>\n      <td>2.5</td>\n      <td>37</td>\n      <td>1</td>\n      <td>{'OutdoorSeating': 'False', 'Alcohol': 'u'none...</td>\n      <td>Fast Food, Restaurants</td>\n      <td>None</td>\n      <td>True</td>\n    </tr>\n    <tr>\n      <th>4</th>\n      <td>Q_dh08clYUPj13GmCRzIVA</td>\n      <td>Kulinarya Express Filipino Kitchen</td>\n      <td>7960 S Rainbow Blvd, Ste 8000A</td>\n      <td>Las Vegas</td>\n      <td>NV</td>\n      <td>89139</td>\n      <td>36.043663</td>\n      <td>-115.241881</td>\n      <td>4.0</td>\n      <td>82</td>\n      <td>0</td>\n      <td>{'BusinessParking': '{'garage': False, 'street...</td>\n      <td>Filipino, Restaurants, Breakfast &amp; Brunch, Foo...</td>\n      <td>{'Monday': '0:0-0:0', 'Tuesday': '10:0-20:0', ...</td>\n      <td>True</td>\n    </tr>\n  </tbody>\n</table>\n</div>"
     },
     "metadata": {},
     "execution_count": 16
    }
   ],
   "source": [
    "business_vegas_restaurant.reset_index(drop=True).head()"
   ]
  },
  {
   "cell_type": "code",
   "execution_count": 17,
   "metadata": {},
   "outputs": [
    {
     "output_type": "execute_result",
     "data": {
      "text/plain": [
       "(6931, 15)"
      ]
     },
     "metadata": {},
     "execution_count": 17
    }
   ],
   "source": [
    "business_vegas_restaurant.shape"
   ]
  },
  {
   "cell_type": "code",
   "execution_count": 18,
   "metadata": {},
   "outputs": [],
   "source": [
    "business_vegas_restaurant.to_pickle('DatasetSamples/restaurant_in_vegas.pickle')"
   ]
  },
  {
   "cell_type": "code",
   "execution_count": 19,
   "metadata": {},
   "outputs": [],
   "source": [
    "review_in_vegas=review.loc[review['business_id'].isin(business_vegas_restaurant['business_id'].unique())]"
   ]
  },
  {
   "cell_type": "code",
   "execution_count": 20,
   "metadata": {},
   "outputs": [
    {
     "output_type": "execute_result",
     "data": {
      "text/plain": [
       "                review_id                 user_id             business_id  \\\n",
       "0  i6g_oA9Yf9Y31qt0wibXpw  ofKDkJKXSKZXu5xJNGiiBQ  5JxlZaqCnk1MnbgRirs40Q   \n",
       "1  bVTjZgRNq8ToxzvtiVrqMA  2hRe26HSCAWbFRn5WChK-Q  d4qwVw4PcN-_2mK2o1Ro1g   \n",
       "2  TeX0eOIeZb_wpo86rCedXQ  RR-2nouBn408e3djxC470g  d4qwVw4PcN-_2mK2o1Ro1g   \n",
       "3  XvLG7ReC8JZmBltOLJzfcA  -Co-ReNx_lXT1xL_Rr0B2g  XZbuPXdyA0ZtTu3AzqtQhg   \n",
       "4  WGbtqQMeJwTVg6DFb156EQ  K5MSNpwRf0xKQSaC6gK9Cw  PL3cimEUfNHlenOGSOAdJg   \n",
       "\n",
       "   stars  useful  funny  cool  \\\n",
       "0      1       0      0     0   \n",
       "1      1       0      0     0   \n",
       "2      5       0      0     0   \n",
       "3      4       0      1     0   \n",
       "4      4       3      0     1   \n",
       "\n",
       "                                                text                date  \n",
       "0  Dismal, lukewarm, defrosted-tasting \"TexMex\" g... 2011-05-27 05:30:52  \n",
       "1  10pm on a super bowl Sunday and they're alread... 2015-02-02 06:28:00  \n",
       "2  Holy heck this place is amazing. I love their ... 2017-02-09 04:25:03  \n",
       "3  As the previous person posted, what more can r... 2009-10-13 09:50:48  \n",
       "4  This was our choice, by default, for New Year'... 2017-01-02 05:24:56  "
      ],
      "text/html": "<div>\n<style scoped>\n    .dataframe tbody tr th:only-of-type {\n        vertical-align: middle;\n    }\n\n    .dataframe tbody tr th {\n        vertical-align: top;\n    }\n\n    .dataframe thead th {\n        text-align: right;\n    }\n</style>\n<table border=\"1\" class=\"dataframe\">\n  <thead>\n    <tr style=\"text-align: right;\">\n      <th></th>\n      <th>review_id</th>\n      <th>user_id</th>\n      <th>business_id</th>\n      <th>stars</th>\n      <th>useful</th>\n      <th>funny</th>\n      <th>cool</th>\n      <th>text</th>\n      <th>date</th>\n    </tr>\n  </thead>\n  <tbody>\n    <tr>\n      <th>0</th>\n      <td>i6g_oA9Yf9Y31qt0wibXpw</td>\n      <td>ofKDkJKXSKZXu5xJNGiiBQ</td>\n      <td>5JxlZaqCnk1MnbgRirs40Q</td>\n      <td>1</td>\n      <td>0</td>\n      <td>0</td>\n      <td>0</td>\n      <td>Dismal, lukewarm, defrosted-tasting \"TexMex\" g...</td>\n      <td>2011-05-27 05:30:52</td>\n    </tr>\n    <tr>\n      <th>1</th>\n      <td>bVTjZgRNq8ToxzvtiVrqMA</td>\n      <td>2hRe26HSCAWbFRn5WChK-Q</td>\n      <td>d4qwVw4PcN-_2mK2o1Ro1g</td>\n      <td>1</td>\n      <td>0</td>\n      <td>0</td>\n      <td>0</td>\n      <td>10pm on a super bowl Sunday and they're alread...</td>\n      <td>2015-02-02 06:28:00</td>\n    </tr>\n    <tr>\n      <th>2</th>\n      <td>TeX0eOIeZb_wpo86rCedXQ</td>\n      <td>RR-2nouBn408e3djxC470g</td>\n      <td>d4qwVw4PcN-_2mK2o1Ro1g</td>\n      <td>5</td>\n      <td>0</td>\n      <td>0</td>\n      <td>0</td>\n      <td>Holy heck this place is amazing. I love their ...</td>\n      <td>2017-02-09 04:25:03</td>\n    </tr>\n    <tr>\n      <th>3</th>\n      <td>XvLG7ReC8JZmBltOLJzfcA</td>\n      <td>-Co-ReNx_lXT1xL_Rr0B2g</td>\n      <td>XZbuPXdyA0ZtTu3AzqtQhg</td>\n      <td>4</td>\n      <td>0</td>\n      <td>1</td>\n      <td>0</td>\n      <td>As the previous person posted, what more can r...</td>\n      <td>2009-10-13 09:50:48</td>\n    </tr>\n    <tr>\n      <th>4</th>\n      <td>WGbtqQMeJwTVg6DFb156EQ</td>\n      <td>K5MSNpwRf0xKQSaC6gK9Cw</td>\n      <td>PL3cimEUfNHlenOGSOAdJg</td>\n      <td>4</td>\n      <td>3</td>\n      <td>0</td>\n      <td>1</td>\n      <td>This was our choice, by default, for New Year'...</td>\n      <td>2017-01-02 05:24:56</td>\n    </tr>\n  </tbody>\n</table>\n</div>"
     },
     "metadata": {},
     "execution_count": 20
    }
   ],
   "source": [
    "review_in_vegas.reset_index(drop=True).head()"
   ]
  },
  {
   "cell_type": "code",
   "execution_count": 21,
   "metadata": {},
   "outputs": [],
   "source": [
    "review_in_vegas.to_pickle('vegas_review.pickle')"
   ]
  },
  {
   "cell_type": "code",
   "execution_count": 22,
   "metadata": {},
   "outputs": [
    {
     "output_type": "execute_result",
     "data": {
      "text/plain": [
       "(1503844, 9)"
      ]
     },
     "metadata": {},
     "execution_count": 22
    }
   ],
   "source": [
    "review_in_vegas.shape"
   ]
  },
  {
   "cell_type": "code",
   "execution_count": 23,
   "metadata": {},
   "outputs": [],
   "source": [
    "user_in_vegas=user.loc[user['user_id'].isin(review_in_vegas['user_id'].unique())]"
   ]
  },
  {
   "cell_type": "code",
   "execution_count": 24,
   "metadata": {},
   "outputs": [],
   "source": [
    "user_in_vegas.to_pickle('DatasetSamples/vegas_users.pickle')"
   ]
  },
  {
   "cell_type": "code",
   "execution_count": 25,
   "metadata": {},
   "outputs": [
    {
     "output_type": "execute_result",
     "data": {
      "text/plain": [
       "(536321, 22)"
      ]
     },
     "metadata": {},
     "execution_count": 25
    }
   ],
   "source": [
    "user_in_vegas.shape"
   ]
  }
 ]
}